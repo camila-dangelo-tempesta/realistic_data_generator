{
 "cells": [
  {
   "cell_type": "markdown",
   "metadata": {},
   "source": [
    "# 0.0 IMPORTS"
   ]
  },
  {
   "cell_type": "code",
   "execution_count": 1,
   "metadata": {},
   "outputs": [],
   "source": [
    "# Imports\n",
    "import pandas as pd"
   ]
  },
  {
   "cell_type": "code",
   "execution_count": 2,
   "metadata": {},
   "outputs": [],
   "source": [
    "import warnings\n",
    "warnings.filterwarnings('ignore')"
   ]
  },
  {
   "cell_type": "code",
   "execution_count": 3,
   "metadata": {},
   "outputs": [],
   "source": [
    "import seaborn           as sns"
   ]
  },
  {
   "cell_type": "markdown",
   "metadata": {},
   "source": [
    "## 0.1 Helper Functions"
   ]
  },
  {
   "cell_type": "code",
   "execution_count": 4,
   "metadata": {},
   "outputs": [
    {
     "name": "stdout",
     "output_type": "stream",
     "text": [
      "Author: Camila D'Angelo\n",
      "\n",
      "pandas : 1.4.3\n",
      "seaborn: 0.11.2\n",
      "\n"
     ]
    }
   ],
   "source": [
    "# Versões dos pacotes usados neste jupyter notebook\n",
    "%reload_ext watermark\n",
    "%watermark -a \"Camila D'Angelo\" --iversions"
   ]
  },
  {
   "cell_type": "code",
   "execution_count": 5,
   "metadata": {},
   "outputs": [
    {
     "name": "stdout",
     "output_type": "stream",
     "text": [
      "Versão da Linguagem Python Usada Neste Jupyter Notebook: 3.9.7\n"
     ]
    }
   ],
   "source": [
    "# Versão da Linguagem Python\n",
    "from platform import python_version\n",
    "print('Versão da Linguagem Python Usada Neste Jupyter Notebook:', python_version())"
   ]
  },
  {
   "cell_type": "code",
   "execution_count": 6,
   "metadata": {},
   "outputs": [],
   "source": [
    "# Notação Científica\n",
    "pd.set_option('display.float_format', '{:.2f}'.format)"
   ]
  },
  {
   "cell_type": "code",
   "execution_count": 7,
   "metadata": {},
   "outputs": [],
   "source": [
    "def jupyter_settings():\n",
    "    %matplotlib inline\n",
    "    %pylab inline\n",
    "    plt.style.use( 'bmh' )\n",
    "    plt.rcParams['figure.figsize'] = [25, 12]\n",
    "    plt.rcParams['font.size'] = 24\n",
    "    display( HTML( '<style>.container { width:100% !important; }</style>') )\n",
    "    pd.options.display.max_columns = None\n",
    "    pd.options.display.max_rows = None\n",
    "    pd.set_option( 'display.expand_frame_repr', False )\n",
    "    sns.set()"
   ]
  },
  {
   "cell_type": "code",
   "execution_count": 8,
   "metadata": {},
   "outputs": [],
   "source": [
    "# jupyter_settings()"
   ]
  },
  {
   "cell_type": "markdown",
   "metadata": {},
   "source": [
    "## LOADING DATA"
   ]
  },
  {
   "cell_type": "code",
   "execution_count": 9,
   "metadata": {},
   "outputs": [],
   "source": [
    "# Dataset de escolas\n",
    "dados_escolas = pd.read_csv(\"dados/dataset_escolas.csv\")"
   ]
  },
  {
   "cell_type": "code",
   "execution_count": 10,
   "metadata": {},
   "outputs": [
    {
     "data": {
      "text/plain": [
       "(15, 5)"
      ]
     },
     "execution_count": 10,
     "metadata": {},
     "output_type": "execute_result"
    }
   ],
   "source": [
    "# Shape\n",
    "dados_escolas.shape"
   ]
  },
  {
   "cell_type": "code",
   "execution_count": 11,
   "metadata": {},
   "outputs": [
    {
     "data": {
      "text/html": [
       "<div>\n",
       "<style scoped>\n",
       "    .dataframe tbody tr th:only-of-type {\n",
       "        vertical-align: middle;\n",
       "    }\n",
       "\n",
       "    .dataframe tbody tr th {\n",
       "        vertical-align: top;\n",
       "    }\n",
       "\n",
       "    .dataframe thead th {\n",
       "        text-align: right;\n",
       "    }\n",
       "</style>\n",
       "<table border=\"1\" class=\"dataframe\">\n",
       "  <thead>\n",
       "    <tr style=\"text-align: right;\">\n",
       "      <th></th>\n",
       "      <th>ID_Escola</th>\n",
       "      <th>Nome_Escola</th>\n",
       "      <th>Tipo_Escola</th>\n",
       "      <th>Numero_Alunos</th>\n",
       "      <th>Orcamento_Anual</th>\n",
       "    </tr>\n",
       "  </thead>\n",
       "  <tbody>\n",
       "    <tr>\n",
       "      <th>0</th>\n",
       "      <td>0</td>\n",
       "      <td>Escola A</td>\n",
       "      <td>Publica</td>\n",
       "      <td>2917</td>\n",
       "      <td>1910635</td>\n",
       "    </tr>\n",
       "    <tr>\n",
       "      <th>1</th>\n",
       "      <td>1</td>\n",
       "      <td>Escola B</td>\n",
       "      <td>Publica</td>\n",
       "      <td>2949</td>\n",
       "      <td>1884411</td>\n",
       "    </tr>\n",
       "    <tr>\n",
       "      <th>2</th>\n",
       "      <td>2</td>\n",
       "      <td>Escola C</td>\n",
       "      <td>Particular</td>\n",
       "      <td>1761</td>\n",
       "      <td>1056600</td>\n",
       "    </tr>\n",
       "    <tr>\n",
       "      <th>3</th>\n",
       "      <td>3</td>\n",
       "      <td>Escola D</td>\n",
       "      <td>Publica</td>\n",
       "      <td>4635</td>\n",
       "      <td>3022020</td>\n",
       "    </tr>\n",
       "    <tr>\n",
       "      <th>4</th>\n",
       "      <td>4</td>\n",
       "      <td>Escola E</td>\n",
       "      <td>Particular</td>\n",
       "      <td>1468</td>\n",
       "      <td>917500</td>\n",
       "    </tr>\n",
       "  </tbody>\n",
       "</table>\n",
       "</div>"
      ],
      "text/plain": [
       "   ID_Escola Nome_Escola Tipo_Escola  Numero_Alunos  Orcamento_Anual\n",
       "0          0    Escola A     Publica           2917          1910635\n",
       "1          1    Escola B     Publica           2949          1884411\n",
       "2          2    Escola C  Particular           1761          1056600\n",
       "3          3    Escola D     Publica           4635          3022020\n",
       "4          4    Escola E  Particular           1468           917500"
      ]
     },
     "execution_count": 11,
     "metadata": {},
     "output_type": "execute_result"
    }
   ],
   "source": [
    "# Visualiza\n",
    "dados_escolas.head()"
   ]
  },
  {
   "cell_type": "code",
   "execution_count": 12,
   "metadata": {},
   "outputs": [],
   "source": [
    "# Dataset de estudantes\n",
    "dados_estudantes = pd.read_csv(\"dados/dataset_estudantes.csv\")"
   ]
  },
  {
   "cell_type": "code",
   "execution_count": 13,
   "metadata": {},
   "outputs": [
    {
     "data": {
      "text/plain": [
       "(39160, 7)"
      ]
     },
     "execution_count": 13,
     "metadata": {},
     "output_type": "execute_result"
    }
   ],
   "source": [
    "# Shape\n",
    "dados_estudantes.shape"
   ]
  },
  {
   "cell_type": "code",
   "execution_count": 14,
   "metadata": {},
   "outputs": [
    {
     "data": {
      "text/html": [
       "<div>\n",
       "<style scoped>\n",
       "    .dataframe tbody tr th:only-of-type {\n",
       "        vertical-align: middle;\n",
       "    }\n",
       "\n",
       "    .dataframe tbody tr th {\n",
       "        vertical-align: top;\n",
       "    }\n",
       "\n",
       "    .dataframe thead th {\n",
       "        text-align: right;\n",
       "    }\n",
       "</style>\n",
       "<table border=\"1\" class=\"dataframe\">\n",
       "  <thead>\n",
       "    <tr style=\"text-align: right;\">\n",
       "      <th></th>\n",
       "      <th>ID_Estudante</th>\n",
       "      <th>Nome_Estudante</th>\n",
       "      <th>Genero</th>\n",
       "      <th>Serie</th>\n",
       "      <th>Nome_Escola</th>\n",
       "      <th>Nota_Redacao</th>\n",
       "      <th>Nota_Matematica</th>\n",
       "    </tr>\n",
       "  </thead>\n",
       "  <tbody>\n",
       "    <tr>\n",
       "      <th>0</th>\n",
       "      <td>0</td>\n",
       "      <td>Kevin Bradley</td>\n",
       "      <td>M</td>\n",
       "      <td>6</td>\n",
       "      <td>Escola A</td>\n",
       "      <td>66</td>\n",
       "      <td>79</td>\n",
       "    </tr>\n",
       "    <tr>\n",
       "      <th>1</th>\n",
       "      <td>1</td>\n",
       "      <td>Paul Smith</td>\n",
       "      <td>M</td>\n",
       "      <td>9</td>\n",
       "      <td>Escola A</td>\n",
       "      <td>94</td>\n",
       "      <td>61</td>\n",
       "    </tr>\n",
       "    <tr>\n",
       "      <th>2</th>\n",
       "      <td>2</td>\n",
       "      <td>John Rodriguez</td>\n",
       "      <td>M</td>\n",
       "      <td>9</td>\n",
       "      <td>Escola A</td>\n",
       "      <td>90</td>\n",
       "      <td>60</td>\n",
       "    </tr>\n",
       "    <tr>\n",
       "      <th>3</th>\n",
       "      <td>3</td>\n",
       "      <td>Oliver Scott</td>\n",
       "      <td>M</td>\n",
       "      <td>9</td>\n",
       "      <td>Escola A</td>\n",
       "      <td>67</td>\n",
       "      <td>58</td>\n",
       "    </tr>\n",
       "    <tr>\n",
       "      <th>4</th>\n",
       "      <td>4</td>\n",
       "      <td>William Ray</td>\n",
       "      <td>F</td>\n",
       "      <td>6</td>\n",
       "      <td>Escola A</td>\n",
       "      <td>97</td>\n",
       "      <td>84</td>\n",
       "    </tr>\n",
       "  </tbody>\n",
       "</table>\n",
       "</div>"
      ],
      "text/plain": [
       "   ID_Estudante  Nome_Estudante Genero  Serie Nome_Escola  Nota_Redacao  \\\n",
       "0             0   Kevin Bradley      M      6    Escola A            66   \n",
       "1             1      Paul Smith      M      9    Escola A            94   \n",
       "2             2  John Rodriguez      M      9    Escola A            90   \n",
       "3             3    Oliver Scott      M      9    Escola A            67   \n",
       "4             4     William Ray      F      6    Escola A            97   \n",
       "\n",
       "   Nota_Matematica  \n",
       "0               79  \n",
       "1               61  \n",
       "2               60  \n",
       "3               58  \n",
       "4               84  "
      ]
     },
     "execution_count": 14,
     "metadata": {},
     "output_type": "execute_result"
    }
   ],
   "source": [
    "# Visualiza\n",
    "dados_estudantes.head()"
   ]
  },
  {
   "cell_type": "code",
   "execution_count": 15,
   "metadata": {},
   "outputs": [],
   "source": [
    "# Merge (Combina) os datasets: pela coluna Nome_Escola\n",
    "dados_full = pd.merge(dados_estudantes, dados_escolas, how = \"left\", on = [\"Nome_Escola\", \"Nome_Escola\"])"
   ]
  },
  {
   "cell_type": "code",
   "execution_count": 16,
   "metadata": {},
   "outputs": [
    {
     "data": {
      "text/plain": [
       "(39160, 11)"
      ]
     },
     "execution_count": 16,
     "metadata": {},
     "output_type": "execute_result"
    }
   ],
   "source": [
    "# Shape\n",
    "dados_full.shape"
   ]
  },
  {
   "cell_type": "code",
   "execution_count": 17,
   "metadata": {},
   "outputs": [
    {
     "data": {
      "text/html": [
       "<div>\n",
       "<style scoped>\n",
       "    .dataframe tbody tr th:only-of-type {\n",
       "        vertical-align: middle;\n",
       "    }\n",
       "\n",
       "    .dataframe tbody tr th {\n",
       "        vertical-align: top;\n",
       "    }\n",
       "\n",
       "    .dataframe thead th {\n",
       "        text-align: right;\n",
       "    }\n",
       "</style>\n",
       "<table border=\"1\" class=\"dataframe\">\n",
       "  <thead>\n",
       "    <tr style=\"text-align: right;\">\n",
       "      <th></th>\n",
       "      <th>ID_Estudante</th>\n",
       "      <th>Nome_Estudante</th>\n",
       "      <th>Genero</th>\n",
       "      <th>Serie</th>\n",
       "      <th>Nome_Escola</th>\n",
       "      <th>Nota_Redacao</th>\n",
       "      <th>Nota_Matematica</th>\n",
       "      <th>ID_Escola</th>\n",
       "      <th>Tipo_Escola</th>\n",
       "      <th>Numero_Alunos</th>\n",
       "      <th>Orcamento_Anual</th>\n",
       "    </tr>\n",
       "  </thead>\n",
       "  <tbody>\n",
       "    <tr>\n",
       "      <th>0</th>\n",
       "      <td>0</td>\n",
       "      <td>Kevin Bradley</td>\n",
       "      <td>M</td>\n",
       "      <td>6</td>\n",
       "      <td>Escola A</td>\n",
       "      <td>66</td>\n",
       "      <td>79</td>\n",
       "      <td>0</td>\n",
       "      <td>Publica</td>\n",
       "      <td>2917</td>\n",
       "      <td>1910635</td>\n",
       "    </tr>\n",
       "    <tr>\n",
       "      <th>1</th>\n",
       "      <td>1</td>\n",
       "      <td>Paul Smith</td>\n",
       "      <td>M</td>\n",
       "      <td>9</td>\n",
       "      <td>Escola A</td>\n",
       "      <td>94</td>\n",
       "      <td>61</td>\n",
       "      <td>0</td>\n",
       "      <td>Publica</td>\n",
       "      <td>2917</td>\n",
       "      <td>1910635</td>\n",
       "    </tr>\n",
       "    <tr>\n",
       "      <th>2</th>\n",
       "      <td>2</td>\n",
       "      <td>John Rodriguez</td>\n",
       "      <td>M</td>\n",
       "      <td>9</td>\n",
       "      <td>Escola A</td>\n",
       "      <td>90</td>\n",
       "      <td>60</td>\n",
       "      <td>0</td>\n",
       "      <td>Publica</td>\n",
       "      <td>2917</td>\n",
       "      <td>1910635</td>\n",
       "    </tr>\n",
       "    <tr>\n",
       "      <th>3</th>\n",
       "      <td>3</td>\n",
       "      <td>Oliver Scott</td>\n",
       "      <td>M</td>\n",
       "      <td>9</td>\n",
       "      <td>Escola A</td>\n",
       "      <td>67</td>\n",
       "      <td>58</td>\n",
       "      <td>0</td>\n",
       "      <td>Publica</td>\n",
       "      <td>2917</td>\n",
       "      <td>1910635</td>\n",
       "    </tr>\n",
       "    <tr>\n",
       "      <th>4</th>\n",
       "      <td>4</td>\n",
       "      <td>William Ray</td>\n",
       "      <td>F</td>\n",
       "      <td>6</td>\n",
       "      <td>Escola A</td>\n",
       "      <td>97</td>\n",
       "      <td>84</td>\n",
       "      <td>0</td>\n",
       "      <td>Publica</td>\n",
       "      <td>2917</td>\n",
       "      <td>1910635</td>\n",
       "    </tr>\n",
       "  </tbody>\n",
       "</table>\n",
       "</div>"
      ],
      "text/plain": [
       "   ID_Estudante  Nome_Estudante Genero  Serie Nome_Escola  Nota_Redacao  \\\n",
       "0             0   Kevin Bradley      M      6    Escola A            66   \n",
       "1             1      Paul Smith      M      9    Escola A            94   \n",
       "2             2  John Rodriguez      M      9    Escola A            90   \n",
       "3             3    Oliver Scott      M      9    Escola A            67   \n",
       "4             4     William Ray      F      6    Escola A            97   \n",
       "\n",
       "   Nota_Matematica  ID_Escola Tipo_Escola  Numero_Alunos  Orcamento_Anual  \n",
       "0               79          0     Publica           2917          1910635  \n",
       "1               61          0     Publica           2917          1910635  \n",
       "2               60          0     Publica           2917          1910635  \n",
       "3               58          0     Publica           2917          1910635  \n",
       "4               84          0     Publica           2917          1910635  "
      ]
     },
     "execution_count": 17,
     "metadata": {},
     "output_type": "execute_result"
    }
   ],
   "source": [
    "# Visualiza\n",
    "dados_full.head()"
   ]
  },
  {
   "cell_type": "markdown",
   "metadata": {},
   "source": [
    "## Answering some business questions"
   ]
  },
  {
   "cell_type": "markdown",
   "metadata": {},
   "source": [
    "> **1- Temos dados de quantas escolas?**"
   ]
  },
  {
   "cell_type": "code",
   "execution_count": 18,
   "metadata": {
    "scrolled": true
   },
   "outputs": [
    {
     "data": {
      "text/plain": [
       "15"
      ]
     },
     "execution_count": 18,
     "metadata": {},
     "output_type": "execute_result"
    }
   ],
   "source": [
    "# Total de escolas únicas: \n",
    "total_escolas = len(dados_full[\"Nome_Escola\"].unique())\n",
    "total_escolas"
   ]
  },
  {
   "cell_type": "code",
   "execution_count": 19,
   "metadata": {},
   "outputs": [
    {
     "name": "stdout",
     "output_type": "stream",
     "text": [
      "Total de escolas no dataset : 15\n"
     ]
    }
   ],
   "source": [
    "print('Total de escolas no dataset : {}'.format(total_escolas))"
   ]
  },
  {
   "cell_type": "markdown",
   "metadata": {},
   "source": [
    "> **2- Qual o total de registros de estudantes na base de dados?**"
   ]
  },
  {
   "cell_type": "code",
   "execution_count": 20,
   "metadata": {},
   "outputs": [
    {
     "data": {
      "text/plain": [
       "39160"
      ]
     },
     "execution_count": 20,
     "metadata": {},
     "output_type": "execute_result"
    }
   ],
   "source": [
    "total_estudantes = dados_full[\"ID_Estudante\"].count()\n",
    "total_estudantes"
   ]
  },
  {
   "cell_type": "code",
   "execution_count": 21,
   "metadata": {},
   "outputs": [
    {
     "name": "stdout",
     "output_type": "stream",
     "text": [
      "Total de estudantes no dataset : 39160\n"
     ]
    }
   ],
   "source": [
    "print('Total de estudantes no dataset : {}'.format(total_estudantes))"
   ]
  },
  {
   "cell_type": "markdown",
   "metadata": {},
   "source": [
    "> **3- Qual o orçamento total considerando todas as escolas?**"
   ]
  },
  {
   "cell_type": "code",
   "execution_count": 22,
   "metadata": {},
   "outputs": [
    {
     "data": {
      "text/plain": [
       "24649428"
      ]
     },
     "execution_count": 22,
     "metadata": {},
     "output_type": "execute_result"
    }
   ],
   "source": [
    "total_orc = dados_escolas[\"Orcamento_Anual\"].sum()\n",
    "total_orc"
   ]
  },
  {
   "cell_type": "code",
   "execution_count": 23,
   "metadata": {},
   "outputs": [
    {
     "name": "stdout",
     "output_type": "stream",
     "text": [
      "Orçamento Total de todas as escolas do dataset :$24649428\n"
     ]
    }
   ],
   "source": [
    "print('Orçamento Total de todas as escolas do dataset :${}'.format(total_orc))"
   ]
  },
  {
   "cell_type": "markdown",
   "metadata": {},
   "source": [
    "> **4- Qual a média da nota dos alunos em Redação?**"
   ]
  },
  {
   "cell_type": "code",
   "execution_count": 24,
   "metadata": {},
   "outputs": [
    {
     "data": {
      "text/plain": [
       "81.87574055158325"
      ]
     },
     "execution_count": 24,
     "metadata": {},
     "output_type": "execute_result"
    }
   ],
   "source": [
    "media_redacao = dados_full[\"Nota_Redacao\"].mean()\n",
    "media_redacao"
   ]
  },
  {
   "cell_type": "code",
   "execution_count": 25,
   "metadata": {},
   "outputs": [
    {
     "name": "stdout",
     "output_type": "stream",
     "text": [
      "Média das nostas dos alunos em redação :81.87574055158325\n"
     ]
    }
   ],
   "source": [
    "print('Média das nostas dos alunos em redação :{}'.format(media_redacao))"
   ]
  },
  {
   "cell_type": "markdown",
   "metadata": {},
   "source": [
    "> **5- Qual a média da nota dos alunos em Matemática?**"
   ]
  },
  {
   "cell_type": "code",
   "execution_count": 26,
   "metadata": {
    "scrolled": true
   },
   "outputs": [
    {
     "data": {
      "text/plain": [
       "78.98493360572012"
      ]
     },
     "execution_count": 26,
     "metadata": {},
     "output_type": "execute_result"
    }
   ],
   "source": [
    "media_matematica = dados_full[\"Nota_Matematica\"].mean()\n",
    "media_matematica"
   ]
  },
  {
   "cell_type": "code",
   "execution_count": 27,
   "metadata": {},
   "outputs": [
    {
     "name": "stdout",
     "output_type": "stream",
     "text": [
      "Média das nostas dos alunos em matemática :78.98493360572012\n"
     ]
    }
   ],
   "source": [
    "print('Média das nostas dos alunos em matemática :{}'.format(media_matematica))"
   ]
  },
  {
   "cell_type": "markdown",
   "metadata": {},
   "source": [
    "> **6- Considerando que a nota de aprovação é 70, quantos alunos foram aprovados em Redação? (Entregue o resultado em valor absoluto e percentual)**"
   ]
  },
  {
   "cell_type": "code",
   "execution_count": 28,
   "metadata": {},
   "outputs": [
    {
     "data": {
      "text/plain": [
       "33600"
      ]
     },
     "execution_count": 28,
     "metadata": {},
     "output_type": "execute_result"
    }
   ],
   "source": [
    "contagem_aprovados_red = dados_full[(dados_full[\"Nota_Redacao\"] >= 70)].count()[\"Nome_Estudante\"]\n",
    "contagem_aprovados_red"
   ]
  },
  {
   "cell_type": "code",
   "execution_count": 29,
   "metadata": {},
   "outputs": [
    {
     "data": {
      "text/plain": [
       "85.80183861082737"
      ]
     },
     "execution_count": 29,
     "metadata": {},
     "output_type": "execute_result"
    }
   ],
   "source": [
    "percentual_aprovados_red = contagem_aprovados_red / float(total_estudantes) * 100\n",
    "percentual_aprovados_red"
   ]
  },
  {
   "cell_type": "code",
   "execution_count": 30,
   "metadata": {},
   "outputs": [
    {
     "name": "stdout",
     "output_type": "stream",
     "text": [
      " Temos um total de aprovação de  :85.80183861082737%\n"
     ]
    }
   ],
   "source": [
    "print(' Temos um total de aprovação de  :{}%'.format(percentual_aprovados_red))"
   ]
  },
  {
   "cell_type": "markdown",
   "metadata": {},
   "source": [
    "> **7- Considerando que a nota de aprovação é 70, quantos alunos foram aprovados em Matemática? (Entregue o resultado em valor absoluto e percentual)**"
   ]
  },
  {
   "cell_type": "code",
   "execution_count": 31,
   "metadata": {},
   "outputs": [
    {
     "data": {
      "text/plain": [
       "29360"
      ]
     },
     "execution_count": 31,
     "metadata": {},
     "output_type": "execute_result"
    }
   ],
   "source": [
    "contagem_aprovados_mat = dados_full[(dados_full[\"Nota_Matematica\"] >= 70)].count()[\"Nome_Estudante\"]\n",
    "contagem_aprovados_mat"
   ]
  },
  {
   "cell_type": "code",
   "execution_count": 32,
   "metadata": {},
   "outputs": [
    {
     "data": {
      "text/plain": [
       "74.97446373850867"
      ]
     },
     "execution_count": 32,
     "metadata": {},
     "output_type": "execute_result"
    }
   ],
   "source": [
    "percentual_aprovados_mat = contagem_aprovados_mat / float(total_estudantes) * 100\n",
    "percentual_aprovados_mat"
   ]
  },
  {
   "cell_type": "code",
   "execution_count": 33,
   "metadata": {},
   "outputs": [
    {
     "name": "stdout",
     "output_type": "stream",
     "text": [
      " Temos um total de aprovação de  :74.97446373850867%\n"
     ]
    }
   ],
   "source": [
    "print(' Temos um total de aprovação de  :{}%'.format(percentual_aprovados_mat))"
   ]
  },
  {
   "cell_type": "markdown",
   "metadata": {},
   "source": [
    "> **8- Considerando que a nota de aprovação é 70, quantos alunos foram aprovados em Matemática e Redação? (Entregue o resultado em valor absoluto e percentual)**"
   ]
  },
  {
   "cell_type": "code",
   "execution_count": 34,
   "metadata": {},
   "outputs": [
    {
     "data": {
      "text/plain": [
       "25518"
      ]
     },
     "execution_count": 34,
     "metadata": {},
     "output_type": "execute_result"
    }
   ],
   "source": [
    "contagem_total_aprovados = dados_full[(dados_full[\"Nota_Matematica\"] >= 70) \n",
    "                                                  & (dados_full[\"Nota_Redacao\"] >= 70)].count()[\"Nome_Estudante\"]\n",
    "contagem_total_aprovados"
   ]
  },
  {
   "cell_type": "code",
   "execution_count": 35,
   "metadata": {},
   "outputs": [
    {
     "name": "stdout",
     "output_type": "stream",
     "text": [
      " Total de alunos que conseguiram aprovação em ambas disciplinas  :25518\n"
     ]
    }
   ],
   "source": [
    "print(' Total de alunos que conseguiram aprovação em ambas disciplinas  :{}'.format(contagem_total_aprovados))"
   ]
  },
  {
   "cell_type": "code",
   "execution_count": 36,
   "metadata": {},
   "outputs": [
    {
     "data": {
      "text/plain": [
       "65.16343207354444"
      ]
     },
     "execution_count": 36,
     "metadata": {},
     "output_type": "execute_result"
    }
   ],
   "source": [
    "percentual_aprovados_total = contagem_total_aprovados /  float(total_estudantes) * 100\n",
    "percentual_aprovados_total"
   ]
  },
  {
   "cell_type": "code",
   "execution_count": 37,
   "metadata": {},
   "outputs": [
    {
     "name": "stdout",
     "output_type": "stream",
     "text": [
      " Temos um total de aprovação em ambas as disciplinas de  :65.16343207354444%\n"
     ]
    }
   ],
   "source": [
    "print(' Temos um total de aprovação em ambas as disciplinas de  :{}%'.format(percentual_aprovados_total))"
   ]
  },
  {
   "cell_type": "markdown",
   "metadata": {},
   "source": [
    "> **9- Crie um dataframe com os resultados das questões de 1 a 8 que você calculou acima. (Dica: crie um dicionário e depois converta em dataframe do Pandas)**"
   ]
  },
  {
   "cell_type": "code",
   "execution_count": 38,
   "metadata": {},
   "outputs": [],
   "source": [
    "df_performance_escolar = pd.DataFrame({\"Total de Escolas\": [total_escolas], \n",
    "                                       \"Total de Estudantes\": [total_estudantes], \n",
    "                                       \"Total Orçamento\": [total_orc],\n",
    "                                       \"Nota Média em Redação\": [media_redacao], \n",
    "                                       \"Nota Média em Matemática\": [media_matematica],\n",
    "                                       \"% Aprovação Redação\": [percentual_aprovados_red],\n",
    "                                       \"% Aprovação Matemática\": [percentual_aprovados_mat],\n",
    "                                       \"% Aprovação Total\": [percentual_aprovados_total]})"
   ]
  },
  {
   "cell_type": "code",
   "execution_count": 39,
   "metadata": {},
   "outputs": [
    {
     "data": {
      "text/html": [
       "<div>\n",
       "<style scoped>\n",
       "    .dataframe tbody tr th:only-of-type {\n",
       "        vertical-align: middle;\n",
       "    }\n",
       "\n",
       "    .dataframe tbody tr th {\n",
       "        vertical-align: top;\n",
       "    }\n",
       "\n",
       "    .dataframe thead th {\n",
       "        text-align: right;\n",
       "    }\n",
       "</style>\n",
       "<table border=\"1\" class=\"dataframe\">\n",
       "  <thead>\n",
       "    <tr style=\"text-align: right;\">\n",
       "      <th></th>\n",
       "      <th>Total de Escolas</th>\n",
       "      <th>Total de Estudantes</th>\n",
       "      <th>Total Orçamento</th>\n",
       "      <th>Nota Média em Redação</th>\n",
       "      <th>Nota Média em Matemática</th>\n",
       "      <th>% Aprovação Redação</th>\n",
       "      <th>% Aprovação Matemática</th>\n",
       "      <th>% Aprovação Total</th>\n",
       "    </tr>\n",
       "  </thead>\n",
       "  <tbody>\n",
       "    <tr>\n",
       "      <th>0</th>\n",
       "      <td>15</td>\n",
       "      <td>39160</td>\n",
       "      <td>24649428</td>\n",
       "      <td>81.88</td>\n",
       "      <td>78.98</td>\n",
       "      <td>85.80</td>\n",
       "      <td>74.97</td>\n",
       "      <td>65.16</td>\n",
       "    </tr>\n",
       "  </tbody>\n",
       "</table>\n",
       "</div>"
      ],
      "text/plain": [
       "   Total de Escolas  Total de Estudantes  Total Orçamento  \\\n",
       "0                15                39160         24649428   \n",
       "\n",
       "   Nota Média em Redação  Nota Média em Matemática  % Aprovação Redação  \\\n",
       "0                  81.88                     78.98                85.80   \n",
       "\n",
       "   % Aprovação Matemática  % Aprovação Total  \n",
       "0                   74.97              65.16  "
      ]
     },
     "execution_count": 39,
     "metadata": {},
     "output_type": "execute_result"
    }
   ],
   "source": [
    "df_performance_escolar"
   ]
  },
  {
   "cell_type": "code",
   "execution_count": 40,
   "metadata": {},
   "outputs": [
    {
     "data": {
      "text/plain": [
       "pandas.core.frame.DataFrame"
      ]
     },
     "execution_count": 40,
     "metadata": {},
     "output_type": "execute_result"
    }
   ],
   "source": [
    "type(df_performance_escolar)"
   ]
  },
  {
   "cell_type": "markdown",
   "metadata": {},
   "source": [
    "> **10- Formate as colunas \"Total de Estudantes\" e \"Total Orçamento\" ajustando as casas decimais.**"
   ]
  },
  {
   "cell_type": "code",
   "execution_count": 41,
   "metadata": {},
   "outputs": [],
   "source": [
    "df_performance_escolar[\"Total de Estudantes\"] = df_performance_escolar[\"Total de Estudantes\"].map(\"{:,}\".format)\n",
    "df_performance_escolar[\"Total Orçamento\"] = df_performance_escolar[\"Total Orçamento\"].map(\"${:,.2f}\".format)"
   ]
  },
  {
   "cell_type": "code",
   "execution_count": 42,
   "metadata": {},
   "outputs": [
    {
     "data": {
      "text/html": [
       "<div>\n",
       "<style scoped>\n",
       "    .dataframe tbody tr th:only-of-type {\n",
       "        vertical-align: middle;\n",
       "    }\n",
       "\n",
       "    .dataframe tbody tr th {\n",
       "        vertical-align: top;\n",
       "    }\n",
       "\n",
       "    .dataframe thead th {\n",
       "        text-align: right;\n",
       "    }\n",
       "</style>\n",
       "<table border=\"1\" class=\"dataframe\">\n",
       "  <thead>\n",
       "    <tr style=\"text-align: right;\">\n",
       "      <th></th>\n",
       "      <th>Total de Escolas</th>\n",
       "      <th>Total de Estudantes</th>\n",
       "      <th>Total Orçamento</th>\n",
       "      <th>Nota Média em Redação</th>\n",
       "      <th>Nota Média em Matemática</th>\n",
       "      <th>% Aprovação Redação</th>\n",
       "      <th>% Aprovação Matemática</th>\n",
       "      <th>% Aprovação Total</th>\n",
       "    </tr>\n",
       "  </thead>\n",
       "  <tbody>\n",
       "    <tr>\n",
       "      <th>0</th>\n",
       "      <td>15</td>\n",
       "      <td>39,160</td>\n",
       "      <td>$24,649,428.00</td>\n",
       "      <td>81.88</td>\n",
       "      <td>78.98</td>\n",
       "      <td>85.80</td>\n",
       "      <td>74.97</td>\n",
       "      <td>65.16</td>\n",
       "    </tr>\n",
       "  </tbody>\n",
       "</table>\n",
       "</div>"
      ],
      "text/plain": [
       "   Total de Escolas Total de Estudantes Total Orçamento  \\\n",
       "0                15              39,160  $24,649,428.00   \n",
       "\n",
       "   Nota Média em Redação  Nota Média em Matemática  % Aprovação Redação  \\\n",
       "0                  81.88                     78.98                85.80   \n",
       "\n",
       "   % Aprovação Matemática  % Aprovação Total  \n",
       "0                   74.97              65.16  "
      ]
     },
     "execution_count": 42,
     "metadata": {},
     "output_type": "execute_result"
    }
   ],
   "source": [
    "df_performance_escolar"
   ]
  },
  {
   "cell_type": "markdown",
   "metadata": {},
   "source": [
    "## Exploratory data analysis"
   ]
  },
  {
   "cell_type": "markdown",
   "metadata": {},
   "source": [
    "**1- Entre os alunos aprovados em Redação, qual gênero obteve maior número de aprovações?**"
   ]
  },
  {
   "cell_type": "code",
   "execution_count": 43,
   "metadata": {
    "scrolled": false
   },
   "outputs": [
    {
     "data": {
      "text/plain": [
       "F    17027\n",
       "M    16573\n",
       "Name: Genero, dtype: int64"
      ]
     },
     "execution_count": 43,
     "metadata": {},
     "output_type": "execute_result"
    }
   ],
   "source": [
    "# Filtragem pela condição: >= 70\n",
    "# Filtragem pela categoria:  (coluna) genero\n",
    "# operação: value_counts (conta por categoria)\n",
    "aprovados_por_genero_red = dados_full[(dados_full[\"Nota_Redacao\"] >= 70)][\"Genero\"].value_counts()\n",
    "aprovados_por_genero_red"
   ]
  },
  {
   "cell_type": "markdown",
   "metadata": {},
   "source": [
    "**2- Entre os alunos aprovados em Matemática, qual gênero obteve maior número de aprovações?**"
   ]
  },
  {
   "cell_type": "code",
   "execution_count": 44,
   "metadata": {},
   "outputs": [
    {
     "data": {
      "text/plain": [
       "F    14835\n",
       "M    14525\n",
       "Name: Genero, dtype: int64"
      ]
     },
     "execution_count": 44,
     "metadata": {},
     "output_type": "execute_result"
    }
   ],
   "source": [
    "aprovados_por_genero_mat = dados_full[(dados_full[\"Nota_Matematica\"] >= 70)][\"Genero\"].value_counts()\n",
    "aprovados_por_genero_mat"
   ]
  },
  {
   "cell_type": "markdown",
   "metadata": {},
   "source": [
    "**3- Quais os tipos de todas as escolas em nossa base de dados?**"
   ]
  },
  {
   "cell_type": "code",
   "execution_count": 45,
   "metadata": {},
   "outputs": [
    {
     "data": {
      "text/plain": [
       "Particular    8\n",
       "Publica       7\n",
       "Name: Tipo_Escola, dtype: int64"
      ]
     },
     "execution_count": 45,
     "metadata": {},
     "output_type": "execute_result"
    }
   ],
   "source": [
    "dados_escolas[\"Tipo_Escola\"].value_counts()"
   ]
  },
  {
   "cell_type": "code",
   "execution_count": 46,
   "metadata": {},
   "outputs": [
    {
     "data": {
      "text/plain": [
       "Nome_Escola\n",
       "Escola C    Particular\n",
       "Escola E    Particular\n",
       "Escola F    Particular\n",
       "Escola G    Particular\n",
       "Escola I    Particular\n",
       "Escola J    Particular\n",
       "Escola K    Particular\n",
       "Escola O    Particular\n",
       "Escola A       Publica\n",
       "Escola B       Publica\n",
       "Escola D       Publica\n",
       "Escola H       Publica\n",
       "Escola L       Publica\n",
       "Escola M       Publica\n",
       "Escola N       Publica\n",
       "Name: Tipo_Escola, dtype: object"
      ]
     },
     "execution_count": 46,
     "metadata": {},
     "output_type": "execute_result"
    }
   ],
   "source": [
    "# setindex: colocando as coluna Nome_Escola como indice\n",
    "# ordenação pela coluna Tipo_Escola\n",
    "tipos_escolas = dados_escolas.set_index([\"Nome_Escola\"])[\"Tipo_Escola\"].sort_values()\n",
    "tipos_escolas"
   ]
  },
  {
   "cell_type": "markdown",
   "metadata": {},
   "source": [
    "**4- Qual o total de estudantes por escola?**"
   ]
  },
  {
   "cell_type": "code",
   "execution_count": 47,
   "metadata": {},
   "outputs": [
    {
     "data": {
      "text/plain": [
       "Escola I     427\n",
       "Escola J     962\n",
       "Escola E    1468\n",
       "Escola O    1625\n",
       "Escola C    1761\n",
       "Escola K    1800\n",
       "Escola G    1858\n",
       "Escola F    2283\n",
       "Escola N    2739\n",
       "Escola A    2917\n",
       "Escola B    2949\n",
       "Escola L    3999\n",
       "Escola D    4635\n",
       "Escola M    4761\n",
       "Escola H    4976\n",
       "Name: Nome_Escola, dtype: int64"
      ]
     },
     "execution_count": 47,
     "metadata": {},
     "output_type": "execute_result"
    }
   ],
   "source": [
    "total_estudantes_escola = dados_full[\"Nome_Escola\"].value_counts().sort_values()\n",
    "total_estudantes_escola"
   ]
  },
  {
   "cell_type": "markdown",
   "metadata": {},
   "source": [
    "**5- Qual o total de orçamento de cada escola per capita (por estudante)?**"
   ]
  },
  {
   "cell_type": "code",
   "execution_count": 48,
   "metadata": {},
   "outputs": [
    {
     "data": {
      "text/plain": [
       "Nome_Escola\n",
       "Escola I    248087.00\n",
       "Escola J    585858.00\n",
       "Escola E    917500.00\n",
       "Escola O   1043130.00\n",
       "Escola K   1049400.00\n",
       "Escola C   1056600.00\n",
       "Escola G   1081356.00\n",
       "Escola F   1319574.00\n",
       "Escola N   1763916.00\n",
       "Escola B   1884411.00\n",
       "Escola A   1910635.00\n",
       "Escola L   2547363.00\n",
       "Escola D   3022020.00\n",
       "Escola M   3094650.00\n",
       "Escola H   3124928.00\n",
       "Name: Orcamento_Anual, dtype: float64"
      ]
     },
     "execution_count": 48,
     "metadata": {},
     "output_type": "execute_result"
    }
   ],
   "source": [
    "# Agrupando por Nome_Escola\n",
    "# Aplicando a média na coluna Orcamento_Anual\n",
    "# Ordenamos_ sort_values\n",
    "orc_escola = dados_full.groupby([\"Nome_Escola\"]).mean()[\"Orcamento_Anual\"].sort_values()\n",
    "orc_escola"
   ]
  },
  {
   "cell_type": "code",
   "execution_count": 49,
   "metadata": {},
   "outputs": [
    {
     "data": {
      "text/plain": [
       "Escola F   578.00\n",
       "Escola I   581.00\n",
       "Escola G   582.00\n",
       "Escola K   583.00\n",
       "Escola C   600.00\n",
       "Escola J   609.00\n",
       "Escola E   625.00\n",
       "Escola H   628.00\n",
       "Escola L   637.00\n",
       "Escola B   639.00\n",
       "Escola O   641.93\n",
       "Escola N   644.00\n",
       "Escola M   650.00\n",
       "Escola D   652.00\n",
       "Escola A   655.00\n",
       "dtype: float64"
      ]
     },
     "execution_count": 49,
     "metadata": {},
     "output_type": "execute_result"
    }
   ],
   "source": [
    "orc_escola_percapita = (orc_escola / total_estudantes_escola).sort_values()\n",
    "orc_escola_percapita"
   ]
  },
  {
   "cell_type": "code",
   "execution_count": 50,
   "metadata": {},
   "outputs": [
    {
     "data": {
      "text/plain": [
       "Index(['ID_Estudante', 'Nome_Estudante', 'Genero', 'Serie', 'Nome_Escola',\n",
       "       'Nota_Redacao', 'Nota_Matematica', 'ID_Escola', 'Tipo_Escola',\n",
       "       'Numero_Alunos', 'Orcamento_Anual'],\n",
       "      dtype='object')"
      ]
     },
     "execution_count": 50,
     "metadata": {},
     "output_type": "execute_result"
    }
   ],
   "source": [
    "dados_full.columns"
   ]
  },
  {
   "cell_type": "markdown",
   "metadata": {},
   "source": [
    "**6- Qual a nota média dos alunos em Redação para cada escola?**\n",
    "\n",
    "Insigth: \n",
    "\n",
    "    - A escola H que possui o maior orçamento não se encontra entre as escolas com maior  nota em redação"
   ]
  },
  {
   "cell_type": "code",
   "execution_count": 51,
   "metadata": {},
   "outputs": [
    {
     "data": {
      "text/plain": [
       "Nome_Escola\n",
       "Escola L   80.74\n",
       "Escola N   80.75\n",
       "Escola D   80.93\n",
       "Escola M   80.97\n",
       "Escola H   81.03\n",
       "Escola B   81.16\n",
       "Escola A   81.18\n",
       "Escola C   83.73\n",
       "Escola O   83.81\n",
       "Escola I   83.81\n",
       "Escola E   83.82\n",
       "Escola K   83.95\n",
       "Escola G   83.98\n",
       "Escola F   83.99\n",
       "Escola J   84.04\n",
       "Name: Nota_Redacao, dtype: float64"
      ]
     },
     "execution_count": 51,
     "metadata": {},
     "output_type": "execute_result"
    }
   ],
   "source": [
    "media_escola_red = dados_full.groupby([\"Nome_Escola\"]).mean()[\"Nota_Redacao\"].sort_values()\n",
    "media_escola_red"
   ]
  },
  {
   "cell_type": "markdown",
   "metadata": {},
   "source": [
    "**7- Qual a nota média dos alunos em Matemática para cada escola?**\n",
    "\n",
    "**6- Qual a nota média dos alunos em Redação para cada escola?**\n",
    "\n",
    "> Insigth: \n",
    "\n",
    "    A escola H que possui o maior orçamento não se encontra entre as escolas com maior  nota em matemática\n",
    "    A escoa I que possui o menor orçamento está entre as escolas com maior nota em matemática"
   ]
  },
  {
   "cell_type": "code",
   "execution_count": 52,
   "metadata": {},
   "outputs": [
    {
     "data": {
      "text/plain": [
       "Nome_Escola\n",
       "Escola A   76.63\n",
       "Escola B   76.71\n",
       "Escola L   76.84\n",
       "Escola H   77.05\n",
       "Escola M   77.07\n",
       "Escola N   77.10\n",
       "Escola D   77.29\n",
       "Escola G   83.06\n",
       "Escola F   83.27\n",
       "Escola E   83.35\n",
       "Escola C   83.36\n",
       "Escola O   83.44\n",
       "Escola K   83.68\n",
       "Escola I   83.80\n",
       "Escola J   83.84\n",
       "Name: Nota_Matematica, dtype: float64"
      ]
     },
     "execution_count": 52,
     "metadata": {},
     "output_type": "execute_result"
    }
   ],
   "source": [
    "media_escola_mat = dados_full.groupby([\"Nome_Escola\"]).mean()[\"Nota_Matematica\"].sort_values()\n",
    "media_escola_mat"
   ]
  },
  {
   "cell_type": "code",
   "execution_count": 53,
   "metadata": {},
   "outputs": [
    {
     "data": {
      "text/plain": [
       "Index(['ID_Estudante', 'Nome_Estudante', 'Genero', 'Serie', 'Nome_Escola',\n",
       "       'Nota_Redacao', 'Nota_Matematica', 'ID_Escola', 'Tipo_Escola',\n",
       "       'Numero_Alunos', 'Orcamento_Anual'],\n",
       "      dtype='object')"
      ]
     },
     "execution_count": 53,
     "metadata": {},
     "output_type": "execute_result"
    }
   ],
   "source": [
    "dados_full.columns"
   ]
  },
  {
   "cell_type": "markdown",
   "metadata": {},
   "source": [
    "**8- Considerando somente os alunos aprovados em Redação, qual a média de alunos aprovados por escola?**"
   ]
  },
  {
   "cell_type": "code",
   "execution_count": 54,
   "metadata": {},
   "outputs": [
    {
     "data": {
      "text/html": [
       "<div>\n",
       "<style scoped>\n",
       "    .dataframe tbody tr th:only-of-type {\n",
       "        vertical-align: middle;\n",
       "    }\n",
       "\n",
       "    .dataframe tbody tr th {\n",
       "        vertical-align: top;\n",
       "    }\n",
       "\n",
       "    .dataframe thead th {\n",
       "        text-align: right;\n",
       "    }\n",
       "</style>\n",
       "<table border=\"1\" class=\"dataframe\">\n",
       "  <thead>\n",
       "    <tr style=\"text-align: right;\">\n",
       "      <th></th>\n",
       "      <th>ID_Estudante</th>\n",
       "      <th>Nome_Estudante</th>\n",
       "      <th>Genero</th>\n",
       "      <th>Serie</th>\n",
       "      <th>Nome_Escola</th>\n",
       "      <th>Nota_Redacao</th>\n",
       "      <th>Nota_Matematica</th>\n",
       "      <th>ID_Escola</th>\n",
       "      <th>Tipo_Escola</th>\n",
       "      <th>Numero_Alunos</th>\n",
       "      <th>Orcamento_Anual</th>\n",
       "    </tr>\n",
       "  </thead>\n",
       "  <tbody>\n",
       "    <tr>\n",
       "      <th>1</th>\n",
       "      <td>1</td>\n",
       "      <td>Paul Smith</td>\n",
       "      <td>M</td>\n",
       "      <td>9</td>\n",
       "      <td>Escola A</td>\n",
       "      <td>94</td>\n",
       "      <td>61</td>\n",
       "      <td>0</td>\n",
       "      <td>Publica</td>\n",
       "      <td>2917</td>\n",
       "      <td>1910635</td>\n",
       "    </tr>\n",
       "    <tr>\n",
       "      <th>2</th>\n",
       "      <td>2</td>\n",
       "      <td>John Rodriguez</td>\n",
       "      <td>M</td>\n",
       "      <td>9</td>\n",
       "      <td>Escola A</td>\n",
       "      <td>90</td>\n",
       "      <td>60</td>\n",
       "      <td>0</td>\n",
       "      <td>Publica</td>\n",
       "      <td>2917</td>\n",
       "      <td>1910635</td>\n",
       "    </tr>\n",
       "    <tr>\n",
       "      <th>4</th>\n",
       "      <td>4</td>\n",
       "      <td>William Ray</td>\n",
       "      <td>F</td>\n",
       "      <td>6</td>\n",
       "      <td>Escola A</td>\n",
       "      <td>97</td>\n",
       "      <td>84</td>\n",
       "      <td>0</td>\n",
       "      <td>Publica</td>\n",
       "      <td>2917</td>\n",
       "      <td>1910635</td>\n",
       "    </tr>\n",
       "    <tr>\n",
       "      <th>5</th>\n",
       "      <td>5</td>\n",
       "      <td>James Miranda</td>\n",
       "      <td>M</td>\n",
       "      <td>6</td>\n",
       "      <td>Escola A</td>\n",
       "      <td>94</td>\n",
       "      <td>94</td>\n",
       "      <td>0</td>\n",
       "      <td>Publica</td>\n",
       "      <td>2917</td>\n",
       "      <td>1910635</td>\n",
       "    </tr>\n",
       "    <tr>\n",
       "      <th>6</th>\n",
       "      <td>6</td>\n",
       "      <td>Benjamin Carter</td>\n",
       "      <td>F</td>\n",
       "      <td>8</td>\n",
       "      <td>Escola A</td>\n",
       "      <td>82</td>\n",
       "      <td>80</td>\n",
       "      <td>0</td>\n",
       "      <td>Publica</td>\n",
       "      <td>2917</td>\n",
       "      <td>1910635</td>\n",
       "    </tr>\n",
       "  </tbody>\n",
       "</table>\n",
       "</div>"
      ],
      "text/plain": [
       "   ID_Estudante   Nome_Estudante Genero  Serie Nome_Escola  Nota_Redacao  \\\n",
       "1             1       Paul Smith      M      9    Escola A            94   \n",
       "2             2   John Rodriguez      M      9    Escola A            90   \n",
       "4             4      William Ray      F      6    Escola A            97   \n",
       "5             5    James Miranda      M      6    Escola A            94   \n",
       "6             6  Benjamin Carter      F      8    Escola A            82   \n",
       "\n",
       "   Nota_Matematica  ID_Escola Tipo_Escola  Numero_Alunos  Orcamento_Anual  \n",
       "1               61          0     Publica           2917          1910635  \n",
       "2               60          0     Publica           2917          1910635  \n",
       "4               84          0     Publica           2917          1910635  \n",
       "5               94          0     Publica           2917          1910635  \n",
       "6               80          0     Publica           2917          1910635  "
      ]
     },
     "execution_count": 54,
     "metadata": {},
     "output_type": "execute_result"
    }
   ],
   "source": [
    "# 1º: Filtragem dos alunos aprovados em Redação\n",
    "aprovados_red = dados_full[(dados_full[\"Nota_Redacao\"] >= 70)]\n",
    "aprovados_red.head()"
   ]
  },
  {
   "cell_type": "code",
   "execution_count": 55,
   "metadata": {},
   "outputs": [
    {
     "data": {
      "text/plain": [
       "Escola N   79.30\n",
       "Escola L   80.22\n",
       "Escola B   80.74\n",
       "Escola D   80.86\n",
       "Escola M   81.22\n",
       "Escola A   81.32\n",
       "Escola H   81.93\n",
       "Escola C   95.85\n",
       "Escola J   95.95\n",
       "Escola I   96.25\n",
       "Escola F   96.54\n",
       "Escola K   96.61\n",
       "Escola G   97.04\n",
       "Escola E   97.14\n",
       "Escola O   97.29\n",
       "dtype: float64"
      ]
     },
     "execution_count": 55,
     "metadata": {},
     "output_type": "execute_result"
    }
   ],
   "source": [
    "# 2º: Calculando a média da nota em Redação por escola considerando os **aprovados em Redação**\n",
    "media_apr_red_esc = (aprovados_red.groupby([\"Nome_Escola\"]).count()[\"Nome_Estudante\"] / total_estudantes_escola * 100).sort_values()\n",
    "media_apr_red_esc"
   ]
  },
  {
   "cell_type": "markdown",
   "metadata": {},
   "source": [
    "**9- Considerando somente os alunos aprovados em Matemática, qual a média de alunos aprovados por escola?**"
   ]
  },
  {
   "cell_type": "code",
   "execution_count": 56,
   "metadata": {},
   "outputs": [
    {
     "data": {
      "text/html": [
       "<div>\n",
       "<style scoped>\n",
       "    .dataframe tbody tr th:only-of-type {\n",
       "        vertical-align: middle;\n",
       "    }\n",
       "\n",
       "    .dataframe tbody tr th {\n",
       "        vertical-align: top;\n",
       "    }\n",
       "\n",
       "    .dataframe thead th {\n",
       "        text-align: right;\n",
       "    }\n",
       "</style>\n",
       "<table border=\"1\" class=\"dataframe\">\n",
       "  <thead>\n",
       "    <tr style=\"text-align: right;\">\n",
       "      <th></th>\n",
       "      <th>ID_Estudante</th>\n",
       "      <th>Nome_Estudante</th>\n",
       "      <th>Genero</th>\n",
       "      <th>Serie</th>\n",
       "      <th>Nome_Escola</th>\n",
       "      <th>Nota_Redacao</th>\n",
       "      <th>Nota_Matematica</th>\n",
       "      <th>ID_Escola</th>\n",
       "      <th>Tipo_Escola</th>\n",
       "      <th>Numero_Alunos</th>\n",
       "      <th>Orcamento_Anual</th>\n",
       "    </tr>\n",
       "  </thead>\n",
       "  <tbody>\n",
       "    <tr>\n",
       "      <th>0</th>\n",
       "      <td>0</td>\n",
       "      <td>Kevin Bradley</td>\n",
       "      <td>M</td>\n",
       "      <td>6</td>\n",
       "      <td>Escola A</td>\n",
       "      <td>66</td>\n",
       "      <td>79</td>\n",
       "      <td>0</td>\n",
       "      <td>Publica</td>\n",
       "      <td>2917</td>\n",
       "      <td>1910635</td>\n",
       "    </tr>\n",
       "    <tr>\n",
       "      <th>4</th>\n",
       "      <td>4</td>\n",
       "      <td>William Ray</td>\n",
       "      <td>F</td>\n",
       "      <td>6</td>\n",
       "      <td>Escola A</td>\n",
       "      <td>97</td>\n",
       "      <td>84</td>\n",
       "      <td>0</td>\n",
       "      <td>Publica</td>\n",
       "      <td>2917</td>\n",
       "      <td>1910635</td>\n",
       "    </tr>\n",
       "    <tr>\n",
       "      <th>5</th>\n",
       "      <td>5</td>\n",
       "      <td>James Miranda</td>\n",
       "      <td>M</td>\n",
       "      <td>6</td>\n",
       "      <td>Escola A</td>\n",
       "      <td>94</td>\n",
       "      <td>94</td>\n",
       "      <td>0</td>\n",
       "      <td>Publica</td>\n",
       "      <td>2917</td>\n",
       "      <td>1910635</td>\n",
       "    </tr>\n",
       "    <tr>\n",
       "      <th>6</th>\n",
       "      <td>6</td>\n",
       "      <td>Benjamin Carter</td>\n",
       "      <td>F</td>\n",
       "      <td>8</td>\n",
       "      <td>Escola A</td>\n",
       "      <td>82</td>\n",
       "      <td>80</td>\n",
       "      <td>0</td>\n",
       "      <td>Publica</td>\n",
       "      <td>2917</td>\n",
       "      <td>1910635</td>\n",
       "    </tr>\n",
       "    <tr>\n",
       "      <th>8</th>\n",
       "      <td>8</td>\n",
       "      <td>Ethan Roth</td>\n",
       "      <td>M</td>\n",
       "      <td>7</td>\n",
       "      <td>Escola A</td>\n",
       "      <td>95</td>\n",
       "      <td>87</td>\n",
       "      <td>0</td>\n",
       "      <td>Publica</td>\n",
       "      <td>2917</td>\n",
       "      <td>1910635</td>\n",
       "    </tr>\n",
       "  </tbody>\n",
       "</table>\n",
       "</div>"
      ],
      "text/plain": [
       "   ID_Estudante   Nome_Estudante Genero  Serie Nome_Escola  Nota_Redacao  \\\n",
       "0             0    Kevin Bradley      M      6    Escola A            66   \n",
       "4             4      William Ray      F      6    Escola A            97   \n",
       "5             5    James Miranda      M      6    Escola A            94   \n",
       "6             6  Benjamin Carter      F      8    Escola A            82   \n",
       "8             8       Ethan Roth      M      7    Escola A            95   \n",
       "\n",
       "   Nota_Matematica  ID_Escola Tipo_Escola  Numero_Alunos  Orcamento_Anual  \n",
       "0               79          0     Publica           2917          1910635  \n",
       "4               84          0     Publica           2917          1910635  \n",
       "5               94          0     Publica           2917          1910635  \n",
       "6               80          0     Publica           2917          1910635  \n",
       "8               87          0     Publica           2917          1910635  "
      ]
     },
     "execution_count": 56,
     "metadata": {},
     "output_type": "execute_result"
    }
   ],
   "source": [
    "# Alunos aprovados em Matemática\n",
    "aprovados_mat = dados_full[(dados_full[\"Nota_Matematica\"] >= 70)]\n",
    "aprovados_mat.head()"
   ]
  },
  {
   "cell_type": "code",
   "execution_count": 57,
   "metadata": {},
   "outputs": [
    {
     "data": {
      "text/plain": [
       "Escola A   65.68\n",
       "Escola B   65.99\n",
       "Escola M   66.06\n",
       "Escola L   66.37\n",
       "Escola H   66.68\n",
       "Escola D   66.75\n",
       "Escola N   68.31\n",
       "Escola I   92.51\n",
       "Escola O   93.23\n",
       "Escola K   93.33\n",
       "Escola E   93.39\n",
       "Escola C   93.87\n",
       "Escola F   93.87\n",
       "Escola G   94.13\n",
       "Escola J   94.59\n",
       "dtype: float64"
      ]
     },
     "execution_count": 57,
     "metadata": {},
     "output_type": "execute_result"
    }
   ],
   "source": [
    "# Média da nota em Matemática por escola considerando os aprovados em Matemática\n",
    "media_apr_mat_esc = (aprovados_mat.groupby([\"Nome_Escola\"]).count()[\"Nome_Estudante\"] / total_estudantes_escola * 100).sort_values()\n",
    "media_apr_mat_esc"
   ]
  },
  {
   "cell_type": "markdown",
   "metadata": {},
   "source": [
    "**10- Considerando alunos aprovados em Matemática e Redação, qual foi a média de alunos aprovados por escola?**"
   ]
  },
  {
   "cell_type": "code",
   "execution_count": 58,
   "metadata": {},
   "outputs": [
    {
     "data": {
      "text/html": [
       "<div>\n",
       "<style scoped>\n",
       "    .dataframe tbody tr th:only-of-type {\n",
       "        vertical-align: middle;\n",
       "    }\n",
       "\n",
       "    .dataframe tbody tr th {\n",
       "        vertical-align: top;\n",
       "    }\n",
       "\n",
       "    .dataframe thead th {\n",
       "        text-align: right;\n",
       "    }\n",
       "</style>\n",
       "<table border=\"1\" class=\"dataframe\">\n",
       "  <thead>\n",
       "    <tr style=\"text-align: right;\">\n",
       "      <th></th>\n",
       "      <th>ID_Estudante</th>\n",
       "      <th>Nome_Estudante</th>\n",
       "      <th>Genero</th>\n",
       "      <th>Serie</th>\n",
       "      <th>Nome_Escola</th>\n",
       "      <th>Nota_Redacao</th>\n",
       "      <th>Nota_Matematica</th>\n",
       "      <th>ID_Escola</th>\n",
       "      <th>Tipo_Escola</th>\n",
       "      <th>Numero_Alunos</th>\n",
       "      <th>Orcamento_Anual</th>\n",
       "    </tr>\n",
       "  </thead>\n",
       "  <tbody>\n",
       "    <tr>\n",
       "      <th>4</th>\n",
       "      <td>4</td>\n",
       "      <td>William Ray</td>\n",
       "      <td>F</td>\n",
       "      <td>6</td>\n",
       "      <td>Escola A</td>\n",
       "      <td>97</td>\n",
       "      <td>84</td>\n",
       "      <td>0</td>\n",
       "      <td>Publica</td>\n",
       "      <td>2917</td>\n",
       "      <td>1910635</td>\n",
       "    </tr>\n",
       "    <tr>\n",
       "      <th>5</th>\n",
       "      <td>5</td>\n",
       "      <td>James Miranda</td>\n",
       "      <td>M</td>\n",
       "      <td>6</td>\n",
       "      <td>Escola A</td>\n",
       "      <td>94</td>\n",
       "      <td>94</td>\n",
       "      <td>0</td>\n",
       "      <td>Publica</td>\n",
       "      <td>2917</td>\n",
       "      <td>1910635</td>\n",
       "    </tr>\n",
       "    <tr>\n",
       "      <th>6</th>\n",
       "      <td>6</td>\n",
       "      <td>Benjamin Carter</td>\n",
       "      <td>F</td>\n",
       "      <td>8</td>\n",
       "      <td>Escola A</td>\n",
       "      <td>82</td>\n",
       "      <td>80</td>\n",
       "      <td>0</td>\n",
       "      <td>Publica</td>\n",
       "      <td>2917</td>\n",
       "      <td>1910635</td>\n",
       "    </tr>\n",
       "    <tr>\n",
       "      <th>8</th>\n",
       "      <td>8</td>\n",
       "      <td>Ethan Roth</td>\n",
       "      <td>M</td>\n",
       "      <td>7</td>\n",
       "      <td>Escola A</td>\n",
       "      <td>95</td>\n",
       "      <td>87</td>\n",
       "      <td>0</td>\n",
       "      <td>Publica</td>\n",
       "      <td>2917</td>\n",
       "      <td>1910635</td>\n",
       "    </tr>\n",
       "    <tr>\n",
       "      <th>9</th>\n",
       "      <td>9</td>\n",
       "      <td>Jacob Greene</td>\n",
       "      <td>M</td>\n",
       "      <td>7</td>\n",
       "      <td>Escola A</td>\n",
       "      <td>96</td>\n",
       "      <td>84</td>\n",
       "      <td>0</td>\n",
       "      <td>Publica</td>\n",
       "      <td>2917</td>\n",
       "      <td>1910635</td>\n",
       "    </tr>\n",
       "  </tbody>\n",
       "</table>\n",
       "</div>"
      ],
      "text/plain": [
       "   ID_Estudante   Nome_Estudante Genero  Serie Nome_Escola  Nota_Redacao  \\\n",
       "4             4      William Ray      F      6    Escola A            97   \n",
       "5             5    James Miranda      M      6    Escola A            94   \n",
       "6             6  Benjamin Carter      F      8    Escola A            82   \n",
       "8             8       Ethan Roth      M      7    Escola A            95   \n",
       "9             9     Jacob Greene      M      7    Escola A            96   \n",
       "\n",
       "   Nota_Matematica  ID_Escola Tipo_Escola  Numero_Alunos  Orcamento_Anual  \n",
       "4               84          0     Publica           2917          1910635  \n",
       "5               94          0     Publica           2917          1910635  \n",
       "6               80          0     Publica           2917          1910635  \n",
       "8               87          0     Publica           2917          1910635  \n",
       "9               84          0     Publica           2917          1910635  "
      ]
     },
     "execution_count": 58,
     "metadata": {},
     "output_type": "execute_result"
    }
   ],
   "source": [
    "# 1º: gerado subset aprovados em matemática e redação\n",
    "aprovados_mat_red = dados_full[(dados_full[\"Nota_Redacao\"] >= 70) & (dados_full[\"Nota_Matematica\"] >= 70)]\n",
    "aprovados_mat_red.head()"
   ]
  },
  {
   "cell_type": "code",
   "execution_count": 59,
   "metadata": {},
   "outputs": [
    {
     "data": {
      "text/plain": [
       "Escola L   52.99\n",
       "Escola B   53.20\n",
       "Escola A   53.51\n",
       "Escola D   53.53\n",
       "Escola M   53.54\n",
       "Escola N   54.29\n",
       "Escola H   54.64\n",
       "Escola I   89.23\n",
       "Escola C   89.89\n",
       "Escola K   90.33\n",
       "Escola J   90.54\n",
       "Escola F   90.58\n",
       "Escola E   90.60\n",
       "Escola O   90.89\n",
       "Escola G   91.33\n",
       "dtype: float64"
      ]
     },
     "execution_count": 59,
     "metadata": {},
     "output_type": "execute_result"
    }
   ],
   "source": [
    "# 2º: \n",
    "# Agrupando por Nome_Escola\n",
    "# Apliaca operação: count por Nome_Estudante / total de estudantes por escola\n",
    "# Multiplica por 100\n",
    "# sort_values: ordena\n",
    "taxa_aprovados_red_mat = (aprovados_mat_red.groupby([\"Nome_Escola\"]).count()[\"Nome_Estudante\"] / total_estudantes_escola * 100).sort_values()\n",
    "taxa_aprovados_red_mat"
   ]
  },
  {
   "cell_type": "markdown",
   "metadata": {},
   "source": [
    "Vamos construir um dataframe de resumo com as métricas anteriores."
   ]
  },
  {
   "cell_type": "code",
   "execution_count": 60,
   "metadata": {},
   "outputs": [],
   "source": [
    "df_resumo_performance_escolar = pd.DataFrame({\"Tipo Escola\": tipos_escolas,\n",
    "                                              \"Total Estudantes\": total_estudantes_escola,\n",
    "                                              \"Total Orçamento\": orc_escola,\n",
    "                                              \"Orçamento Por Estudante\": orc_escola_percapita,\n",
    "                                              \"Nota Média Aprovação Redação\": media_escola_red,\n",
    "                                              \"Nota Média Aprovação Matemática\": media_escola_mat,\n",
    "                                              \"% Aprovados Redação\": media_apr_red_esc,\n",
    "                                              \"% Aprovados Matemática\": media_apr_mat_esc,\n",
    "                                              \"% Geral Aprovados\": taxa_aprovados_red_mat})"
   ]
  },
  {
   "cell_type": "code",
   "execution_count": 61,
   "metadata": {},
   "outputs": [
    {
     "data": {
      "text/html": [
       "<div>\n",
       "<style scoped>\n",
       "    .dataframe tbody tr th:only-of-type {\n",
       "        vertical-align: middle;\n",
       "    }\n",
       "\n",
       "    .dataframe tbody tr th {\n",
       "        vertical-align: top;\n",
       "    }\n",
       "\n",
       "    .dataframe thead th {\n",
       "        text-align: right;\n",
       "    }\n",
       "</style>\n",
       "<table border=\"1\" class=\"dataframe\">\n",
       "  <thead>\n",
       "    <tr style=\"text-align: right;\">\n",
       "      <th></th>\n",
       "      <th>Tipo Escola</th>\n",
       "      <th>Total Estudantes</th>\n",
       "      <th>Total Orçamento</th>\n",
       "      <th>Orçamento Por Estudante</th>\n",
       "      <th>Nota Média Aprovação Redação</th>\n",
       "      <th>Nota Média Aprovação Matemática</th>\n",
       "      <th>% Aprovados Redação</th>\n",
       "      <th>% Aprovados Matemática</th>\n",
       "      <th>% Geral Aprovados</th>\n",
       "    </tr>\n",
       "  </thead>\n",
       "  <tbody>\n",
       "    <tr>\n",
       "      <th>Escola A</th>\n",
       "      <td>Publica</td>\n",
       "      <td>2917</td>\n",
       "      <td>1910635.00</td>\n",
       "      <td>655.00</td>\n",
       "      <td>81.18</td>\n",
       "      <td>76.63</td>\n",
       "      <td>81.32</td>\n",
       "      <td>65.68</td>\n",
       "      <td>53.51</td>\n",
       "    </tr>\n",
       "    <tr>\n",
       "      <th>Escola B</th>\n",
       "      <td>Publica</td>\n",
       "      <td>2949</td>\n",
       "      <td>1884411.00</td>\n",
       "      <td>639.00</td>\n",
       "      <td>81.16</td>\n",
       "      <td>76.71</td>\n",
       "      <td>80.74</td>\n",
       "      <td>65.99</td>\n",
       "      <td>53.20</td>\n",
       "    </tr>\n",
       "    <tr>\n",
       "      <th>Escola C</th>\n",
       "      <td>Particular</td>\n",
       "      <td>1761</td>\n",
       "      <td>1056600.00</td>\n",
       "      <td>600.00</td>\n",
       "      <td>83.73</td>\n",
       "      <td>83.36</td>\n",
       "      <td>95.85</td>\n",
       "      <td>93.87</td>\n",
       "      <td>89.89</td>\n",
       "    </tr>\n",
       "    <tr>\n",
       "      <th>Escola D</th>\n",
       "      <td>Publica</td>\n",
       "      <td>4635</td>\n",
       "      <td>3022020.00</td>\n",
       "      <td>652.00</td>\n",
       "      <td>80.93</td>\n",
       "      <td>77.29</td>\n",
       "      <td>80.86</td>\n",
       "      <td>66.75</td>\n",
       "      <td>53.53</td>\n",
       "    </tr>\n",
       "    <tr>\n",
       "      <th>Escola E</th>\n",
       "      <td>Particular</td>\n",
       "      <td>1468</td>\n",
       "      <td>917500.00</td>\n",
       "      <td>625.00</td>\n",
       "      <td>83.82</td>\n",
       "      <td>83.35</td>\n",
       "      <td>97.14</td>\n",
       "      <td>93.39</td>\n",
       "      <td>90.60</td>\n",
       "    </tr>\n",
       "    <tr>\n",
       "      <th>Escola F</th>\n",
       "      <td>Particular</td>\n",
       "      <td>2283</td>\n",
       "      <td>1319574.00</td>\n",
       "      <td>578.00</td>\n",
       "      <td>83.99</td>\n",
       "      <td>83.27</td>\n",
       "      <td>96.54</td>\n",
       "      <td>93.87</td>\n",
       "      <td>90.58</td>\n",
       "    </tr>\n",
       "    <tr>\n",
       "      <th>Escola G</th>\n",
       "      <td>Particular</td>\n",
       "      <td>1858</td>\n",
       "      <td>1081356.00</td>\n",
       "      <td>582.00</td>\n",
       "      <td>83.98</td>\n",
       "      <td>83.06</td>\n",
       "      <td>97.04</td>\n",
       "      <td>94.13</td>\n",
       "      <td>91.33</td>\n",
       "    </tr>\n",
       "    <tr>\n",
       "      <th>Escola H</th>\n",
       "      <td>Publica</td>\n",
       "      <td>4976</td>\n",
       "      <td>3124928.00</td>\n",
       "      <td>628.00</td>\n",
       "      <td>81.03</td>\n",
       "      <td>77.05</td>\n",
       "      <td>81.93</td>\n",
       "      <td>66.68</td>\n",
       "      <td>54.64</td>\n",
       "    </tr>\n",
       "    <tr>\n",
       "      <th>Escola I</th>\n",
       "      <td>Particular</td>\n",
       "      <td>427</td>\n",
       "      <td>248087.00</td>\n",
       "      <td>581.00</td>\n",
       "      <td>83.81</td>\n",
       "      <td>83.80</td>\n",
       "      <td>96.25</td>\n",
       "      <td>92.51</td>\n",
       "      <td>89.23</td>\n",
       "    </tr>\n",
       "    <tr>\n",
       "      <th>Escola J</th>\n",
       "      <td>Particular</td>\n",
       "      <td>962</td>\n",
       "      <td>585858.00</td>\n",
       "      <td>609.00</td>\n",
       "      <td>84.04</td>\n",
       "      <td>83.84</td>\n",
       "      <td>95.95</td>\n",
       "      <td>94.59</td>\n",
       "      <td>90.54</td>\n",
       "    </tr>\n",
       "    <tr>\n",
       "      <th>Escola K</th>\n",
       "      <td>Particular</td>\n",
       "      <td>1800</td>\n",
       "      <td>1049400.00</td>\n",
       "      <td>583.00</td>\n",
       "      <td>83.95</td>\n",
       "      <td>83.68</td>\n",
       "      <td>96.61</td>\n",
       "      <td>93.33</td>\n",
       "      <td>90.33</td>\n",
       "    </tr>\n",
       "    <tr>\n",
       "      <th>Escola L</th>\n",
       "      <td>Publica</td>\n",
       "      <td>3999</td>\n",
       "      <td>2547363.00</td>\n",
       "      <td>637.00</td>\n",
       "      <td>80.74</td>\n",
       "      <td>76.84</td>\n",
       "      <td>80.22</td>\n",
       "      <td>66.37</td>\n",
       "      <td>52.99</td>\n",
       "    </tr>\n",
       "    <tr>\n",
       "      <th>Escola M</th>\n",
       "      <td>Publica</td>\n",
       "      <td>4761</td>\n",
       "      <td>3094650.00</td>\n",
       "      <td>650.00</td>\n",
       "      <td>80.97</td>\n",
       "      <td>77.07</td>\n",
       "      <td>81.22</td>\n",
       "      <td>66.06</td>\n",
       "      <td>53.54</td>\n",
       "    </tr>\n",
       "    <tr>\n",
       "      <th>Escola N</th>\n",
       "      <td>Publica</td>\n",
       "      <td>2739</td>\n",
       "      <td>1763916.00</td>\n",
       "      <td>644.00</td>\n",
       "      <td>80.75</td>\n",
       "      <td>77.10</td>\n",
       "      <td>79.30</td>\n",
       "      <td>68.31</td>\n",
       "      <td>54.29</td>\n",
       "    </tr>\n",
       "    <tr>\n",
       "      <th>Escola O</th>\n",
       "      <td>Particular</td>\n",
       "      <td>1625</td>\n",
       "      <td>1043130.00</td>\n",
       "      <td>641.93</td>\n",
       "      <td>83.81</td>\n",
       "      <td>83.44</td>\n",
       "      <td>97.29</td>\n",
       "      <td>93.23</td>\n",
       "      <td>90.89</td>\n",
       "    </tr>\n",
       "  </tbody>\n",
       "</table>\n",
       "</div>"
      ],
      "text/plain": [
       "         Tipo Escola  Total Estudantes  Total Orçamento  \\\n",
       "Escola A     Publica              2917       1910635.00   \n",
       "Escola B     Publica              2949       1884411.00   \n",
       "Escola C  Particular              1761       1056600.00   \n",
       "Escola D     Publica              4635       3022020.00   \n",
       "Escola E  Particular              1468        917500.00   \n",
       "Escola F  Particular              2283       1319574.00   \n",
       "Escola G  Particular              1858       1081356.00   \n",
       "Escola H     Publica              4976       3124928.00   \n",
       "Escola I  Particular               427        248087.00   \n",
       "Escola J  Particular               962        585858.00   \n",
       "Escola K  Particular              1800       1049400.00   \n",
       "Escola L     Publica              3999       2547363.00   \n",
       "Escola M     Publica              4761       3094650.00   \n",
       "Escola N     Publica              2739       1763916.00   \n",
       "Escola O  Particular              1625       1043130.00   \n",
       "\n",
       "          Orçamento Por Estudante  Nota Média Aprovação Redação  \\\n",
       "Escola A                   655.00                         81.18   \n",
       "Escola B                   639.00                         81.16   \n",
       "Escola C                   600.00                         83.73   \n",
       "Escola D                   652.00                         80.93   \n",
       "Escola E                   625.00                         83.82   \n",
       "Escola F                   578.00                         83.99   \n",
       "Escola G                   582.00                         83.98   \n",
       "Escola H                   628.00                         81.03   \n",
       "Escola I                   581.00                         83.81   \n",
       "Escola J                   609.00                         84.04   \n",
       "Escola K                   583.00                         83.95   \n",
       "Escola L                   637.00                         80.74   \n",
       "Escola M                   650.00                         80.97   \n",
       "Escola N                   644.00                         80.75   \n",
       "Escola O                   641.93                         83.81   \n",
       "\n",
       "          Nota Média Aprovação Matemática  % Aprovados Redação  \\\n",
       "Escola A                            76.63                81.32   \n",
       "Escola B                            76.71                80.74   \n",
       "Escola C                            83.36                95.85   \n",
       "Escola D                            77.29                80.86   \n",
       "Escola E                            83.35                97.14   \n",
       "Escola F                            83.27                96.54   \n",
       "Escola G                            83.06                97.04   \n",
       "Escola H                            77.05                81.93   \n",
       "Escola I                            83.80                96.25   \n",
       "Escola J                            83.84                95.95   \n",
       "Escola K                            83.68                96.61   \n",
       "Escola L                            76.84                80.22   \n",
       "Escola M                            77.07                81.22   \n",
       "Escola N                            77.10                79.30   \n",
       "Escola O                            83.44                97.29   \n",
       "\n",
       "          % Aprovados Matemática  % Geral Aprovados  \n",
       "Escola A                   65.68              53.51  \n",
       "Escola B                   65.99              53.20  \n",
       "Escola C                   93.87              89.89  \n",
       "Escola D                   66.75              53.53  \n",
       "Escola E                   93.39              90.60  \n",
       "Escola F                   93.87              90.58  \n",
       "Escola G                   94.13              91.33  \n",
       "Escola H                   66.68              54.64  \n",
       "Escola I                   92.51              89.23  \n",
       "Escola J                   94.59              90.54  \n",
       "Escola K                   93.33              90.33  \n",
       "Escola L                   66.37              52.99  \n",
       "Escola M                   66.06              53.54  \n",
       "Escola N                   68.31              54.29  \n",
       "Escola O                   93.23              90.89  "
      ]
     },
     "execution_count": 61,
     "metadata": {},
     "output_type": "execute_result"
    }
   ],
   "source": [
    "df_resumo_performance_escolar"
   ]
  },
  {
   "cell_type": "markdown",
   "metadata": {},
   "source": [
    "> Formatamos algumas colunas."
   ]
  },
  {
   "cell_type": "code",
   "execution_count": 62,
   "metadata": {},
   "outputs": [],
   "source": [
    "df_resumo_performance_escolar[\"Total Orçamento\"] = df_resumo_performance_escolar[\"Total Orçamento\"].map(\"${:,.2f}\".format)\n",
    "df_resumo_performance_escolar[\"Orçamento Por Estudante\"] = df_resumo_performance_escolar[\"Orçamento Por Estudante\"].map(\"${:,.2f}\".format)\n"
   ]
  },
  {
   "cell_type": "code",
   "execution_count": 63,
   "metadata": {},
   "outputs": [
    {
     "data": {
      "text/html": [
       "<div>\n",
       "<style scoped>\n",
       "    .dataframe tbody tr th:only-of-type {\n",
       "        vertical-align: middle;\n",
       "    }\n",
       "\n",
       "    .dataframe tbody tr th {\n",
       "        vertical-align: top;\n",
       "    }\n",
       "\n",
       "    .dataframe thead th {\n",
       "        text-align: right;\n",
       "    }\n",
       "</style>\n",
       "<table border=\"1\" class=\"dataframe\">\n",
       "  <thead>\n",
       "    <tr style=\"text-align: right;\">\n",
       "      <th></th>\n",
       "      <th>Tipo Escola</th>\n",
       "      <th>Total Estudantes</th>\n",
       "      <th>Total Orçamento</th>\n",
       "      <th>Orçamento Por Estudante</th>\n",
       "      <th>Nota Média Aprovação Redação</th>\n",
       "      <th>Nota Média Aprovação Matemática</th>\n",
       "      <th>% Aprovados Redação</th>\n",
       "      <th>% Aprovados Matemática</th>\n",
       "      <th>% Geral Aprovados</th>\n",
       "    </tr>\n",
       "  </thead>\n",
       "  <tbody>\n",
       "    <tr>\n",
       "      <th>Escola A</th>\n",
       "      <td>Publica</td>\n",
       "      <td>2917</td>\n",
       "      <td>$1,910,635.00</td>\n",
       "      <td>$655.00</td>\n",
       "      <td>81.18</td>\n",
       "      <td>76.63</td>\n",
       "      <td>81.32</td>\n",
       "      <td>65.68</td>\n",
       "      <td>53.51</td>\n",
       "    </tr>\n",
       "    <tr>\n",
       "      <th>Escola B</th>\n",
       "      <td>Publica</td>\n",
       "      <td>2949</td>\n",
       "      <td>$1,884,411.00</td>\n",
       "      <td>$639.00</td>\n",
       "      <td>81.16</td>\n",
       "      <td>76.71</td>\n",
       "      <td>80.74</td>\n",
       "      <td>65.99</td>\n",
       "      <td>53.20</td>\n",
       "    </tr>\n",
       "    <tr>\n",
       "      <th>Escola C</th>\n",
       "      <td>Particular</td>\n",
       "      <td>1761</td>\n",
       "      <td>$1,056,600.00</td>\n",
       "      <td>$600.00</td>\n",
       "      <td>83.73</td>\n",
       "      <td>83.36</td>\n",
       "      <td>95.85</td>\n",
       "      <td>93.87</td>\n",
       "      <td>89.89</td>\n",
       "    </tr>\n",
       "    <tr>\n",
       "      <th>Escola D</th>\n",
       "      <td>Publica</td>\n",
       "      <td>4635</td>\n",
       "      <td>$3,022,020.00</td>\n",
       "      <td>$652.00</td>\n",
       "      <td>80.93</td>\n",
       "      <td>77.29</td>\n",
       "      <td>80.86</td>\n",
       "      <td>66.75</td>\n",
       "      <td>53.53</td>\n",
       "    </tr>\n",
       "    <tr>\n",
       "      <th>Escola E</th>\n",
       "      <td>Particular</td>\n",
       "      <td>1468</td>\n",
       "      <td>$917,500.00</td>\n",
       "      <td>$625.00</td>\n",
       "      <td>83.82</td>\n",
       "      <td>83.35</td>\n",
       "      <td>97.14</td>\n",
       "      <td>93.39</td>\n",
       "      <td>90.60</td>\n",
       "    </tr>\n",
       "    <tr>\n",
       "      <th>Escola F</th>\n",
       "      <td>Particular</td>\n",
       "      <td>2283</td>\n",
       "      <td>$1,319,574.00</td>\n",
       "      <td>$578.00</td>\n",
       "      <td>83.99</td>\n",
       "      <td>83.27</td>\n",
       "      <td>96.54</td>\n",
       "      <td>93.87</td>\n",
       "      <td>90.58</td>\n",
       "    </tr>\n",
       "    <tr>\n",
       "      <th>Escola G</th>\n",
       "      <td>Particular</td>\n",
       "      <td>1858</td>\n",
       "      <td>$1,081,356.00</td>\n",
       "      <td>$582.00</td>\n",
       "      <td>83.98</td>\n",
       "      <td>83.06</td>\n",
       "      <td>97.04</td>\n",
       "      <td>94.13</td>\n",
       "      <td>91.33</td>\n",
       "    </tr>\n",
       "    <tr>\n",
       "      <th>Escola H</th>\n",
       "      <td>Publica</td>\n",
       "      <td>4976</td>\n",
       "      <td>$3,124,928.00</td>\n",
       "      <td>$628.00</td>\n",
       "      <td>81.03</td>\n",
       "      <td>77.05</td>\n",
       "      <td>81.93</td>\n",
       "      <td>66.68</td>\n",
       "      <td>54.64</td>\n",
       "    </tr>\n",
       "    <tr>\n",
       "      <th>Escola I</th>\n",
       "      <td>Particular</td>\n",
       "      <td>427</td>\n",
       "      <td>$248,087.00</td>\n",
       "      <td>$581.00</td>\n",
       "      <td>83.81</td>\n",
       "      <td>83.80</td>\n",
       "      <td>96.25</td>\n",
       "      <td>92.51</td>\n",
       "      <td>89.23</td>\n",
       "    </tr>\n",
       "    <tr>\n",
       "      <th>Escola J</th>\n",
       "      <td>Particular</td>\n",
       "      <td>962</td>\n",
       "      <td>$585,858.00</td>\n",
       "      <td>$609.00</td>\n",
       "      <td>84.04</td>\n",
       "      <td>83.84</td>\n",
       "      <td>95.95</td>\n",
       "      <td>94.59</td>\n",
       "      <td>90.54</td>\n",
       "    </tr>\n",
       "    <tr>\n",
       "      <th>Escola K</th>\n",
       "      <td>Particular</td>\n",
       "      <td>1800</td>\n",
       "      <td>$1,049,400.00</td>\n",
       "      <td>$583.00</td>\n",
       "      <td>83.95</td>\n",
       "      <td>83.68</td>\n",
       "      <td>96.61</td>\n",
       "      <td>93.33</td>\n",
       "      <td>90.33</td>\n",
       "    </tr>\n",
       "    <tr>\n",
       "      <th>Escola L</th>\n",
       "      <td>Publica</td>\n",
       "      <td>3999</td>\n",
       "      <td>$2,547,363.00</td>\n",
       "      <td>$637.00</td>\n",
       "      <td>80.74</td>\n",
       "      <td>76.84</td>\n",
       "      <td>80.22</td>\n",
       "      <td>66.37</td>\n",
       "      <td>52.99</td>\n",
       "    </tr>\n",
       "    <tr>\n",
       "      <th>Escola M</th>\n",
       "      <td>Publica</td>\n",
       "      <td>4761</td>\n",
       "      <td>$3,094,650.00</td>\n",
       "      <td>$650.00</td>\n",
       "      <td>80.97</td>\n",
       "      <td>77.07</td>\n",
       "      <td>81.22</td>\n",
       "      <td>66.06</td>\n",
       "      <td>53.54</td>\n",
       "    </tr>\n",
       "    <tr>\n",
       "      <th>Escola N</th>\n",
       "      <td>Publica</td>\n",
       "      <td>2739</td>\n",
       "      <td>$1,763,916.00</td>\n",
       "      <td>$644.00</td>\n",
       "      <td>80.75</td>\n",
       "      <td>77.10</td>\n",
       "      <td>79.30</td>\n",
       "      <td>68.31</td>\n",
       "      <td>54.29</td>\n",
       "    </tr>\n",
       "    <tr>\n",
       "      <th>Escola O</th>\n",
       "      <td>Particular</td>\n",
       "      <td>1625</td>\n",
       "      <td>$1,043,130.00</td>\n",
       "      <td>$641.93</td>\n",
       "      <td>83.81</td>\n",
       "      <td>83.44</td>\n",
       "      <td>97.29</td>\n",
       "      <td>93.23</td>\n",
       "      <td>90.89</td>\n",
       "    </tr>\n",
       "  </tbody>\n",
       "</table>\n",
       "</div>"
      ],
      "text/plain": [
       "         Tipo Escola  Total Estudantes Total Orçamento  \\\n",
       "Escola A     Publica              2917   $1,910,635.00   \n",
       "Escola B     Publica              2949   $1,884,411.00   \n",
       "Escola C  Particular              1761   $1,056,600.00   \n",
       "Escola D     Publica              4635   $3,022,020.00   \n",
       "Escola E  Particular              1468     $917,500.00   \n",
       "Escola F  Particular              2283   $1,319,574.00   \n",
       "Escola G  Particular              1858   $1,081,356.00   \n",
       "Escola H     Publica              4976   $3,124,928.00   \n",
       "Escola I  Particular               427     $248,087.00   \n",
       "Escola J  Particular               962     $585,858.00   \n",
       "Escola K  Particular              1800   $1,049,400.00   \n",
       "Escola L     Publica              3999   $2,547,363.00   \n",
       "Escola M     Publica              4761   $3,094,650.00   \n",
       "Escola N     Publica              2739   $1,763,916.00   \n",
       "Escola O  Particular              1625   $1,043,130.00   \n",
       "\n",
       "         Orçamento Por Estudante  Nota Média Aprovação Redação  \\\n",
       "Escola A                 $655.00                         81.18   \n",
       "Escola B                 $639.00                         81.16   \n",
       "Escola C                 $600.00                         83.73   \n",
       "Escola D                 $652.00                         80.93   \n",
       "Escola E                 $625.00                         83.82   \n",
       "Escola F                 $578.00                         83.99   \n",
       "Escola G                 $582.00                         83.98   \n",
       "Escola H                 $628.00                         81.03   \n",
       "Escola I                 $581.00                         83.81   \n",
       "Escola J                 $609.00                         84.04   \n",
       "Escola K                 $583.00                         83.95   \n",
       "Escola L                 $637.00                         80.74   \n",
       "Escola M                 $650.00                         80.97   \n",
       "Escola N                 $644.00                         80.75   \n",
       "Escola O                 $641.93                         83.81   \n",
       "\n",
       "          Nota Média Aprovação Matemática  % Aprovados Redação  \\\n",
       "Escola A                            76.63                81.32   \n",
       "Escola B                            76.71                80.74   \n",
       "Escola C                            83.36                95.85   \n",
       "Escola D                            77.29                80.86   \n",
       "Escola E                            83.35                97.14   \n",
       "Escola F                            83.27                96.54   \n",
       "Escola G                            83.06                97.04   \n",
       "Escola H                            77.05                81.93   \n",
       "Escola I                            83.80                96.25   \n",
       "Escola J                            83.84                95.95   \n",
       "Escola K                            83.68                96.61   \n",
       "Escola L                            76.84                80.22   \n",
       "Escola M                            77.07                81.22   \n",
       "Escola N                            77.10                79.30   \n",
       "Escola O                            83.44                97.29   \n",
       "\n",
       "          % Aprovados Matemática  % Geral Aprovados  \n",
       "Escola A                   65.68              53.51  \n",
       "Escola B                   65.99              53.20  \n",
       "Escola C                   93.87              89.89  \n",
       "Escola D                   66.75              53.53  \n",
       "Escola E                   93.39              90.60  \n",
       "Escola F                   93.87              90.58  \n",
       "Escola G                   94.13              91.33  \n",
       "Escola H                   66.68              54.64  \n",
       "Escola I                   92.51              89.23  \n",
       "Escola J                   94.59              90.54  \n",
       "Escola K                   93.33              90.33  \n",
       "Escola L                   66.37              52.99  \n",
       "Escola M                   66.06              53.54  \n",
       "Escola N                   68.31              54.29  \n",
       "Escola O                   93.23              90.89  "
      ]
     },
     "execution_count": 63,
     "metadata": {},
     "output_type": "execute_result"
    }
   ],
   "source": [
    "df_resumo_performance_escolar"
   ]
  },
  {
   "cell_type": "code",
   "execution_count": 64,
   "metadata": {},
   "outputs": [
    {
     "data": {
      "text/html": [
       "<div>\n",
       "<style scoped>\n",
       "    .dataframe tbody tr th:only-of-type {\n",
       "        vertical-align: middle;\n",
       "    }\n",
       "\n",
       "    .dataframe tbody tr th {\n",
       "        vertical-align: top;\n",
       "    }\n",
       "\n",
       "    .dataframe thead th {\n",
       "        text-align: right;\n",
       "    }\n",
       "</style>\n",
       "<table border=\"1\" class=\"dataframe\">\n",
       "  <thead>\n",
       "    <tr style=\"text-align: right;\">\n",
       "      <th></th>\n",
       "      <th>Total Estudantes</th>\n",
       "      <th>Nota Média Aprovação Redação</th>\n",
       "      <th>Nota Média Aprovação Matemática</th>\n",
       "      <th>% Aprovados Redação</th>\n",
       "      <th>% Aprovados Matemática</th>\n",
       "      <th>% Geral Aprovados</th>\n",
       "    </tr>\n",
       "  </thead>\n",
       "  <tbody>\n",
       "    <tr>\n",
       "      <th>count</th>\n",
       "      <td>15.00</td>\n",
       "      <td>15.00</td>\n",
       "      <td>15.00</td>\n",
       "      <td>15.00</td>\n",
       "      <td>15.00</td>\n",
       "      <td>15.00</td>\n",
       "    </tr>\n",
       "    <tr>\n",
       "      <th>mean</th>\n",
       "      <td>2610.67</td>\n",
       "      <td>82.53</td>\n",
       "      <td>80.43</td>\n",
       "      <td>89.22</td>\n",
       "      <td>80.98</td>\n",
       "      <td>73.27</td>\n",
       "    </tr>\n",
       "    <tr>\n",
       "      <th>std</th>\n",
       "      <td>1421.41</td>\n",
       "      <td>1.52</td>\n",
       "      <td>3.38</td>\n",
       "      <td>8.18</td>\n",
       "      <td>14.00</td>\n",
       "      <td>18.99</td>\n",
       "    </tr>\n",
       "    <tr>\n",
       "      <th>min</th>\n",
       "      <td>427.00</td>\n",
       "      <td>80.74</td>\n",
       "      <td>76.63</td>\n",
       "      <td>79.30</td>\n",
       "      <td>65.68</td>\n",
       "      <td>52.99</td>\n",
       "    </tr>\n",
       "    <tr>\n",
       "      <th>25%</th>\n",
       "      <td>1693.00</td>\n",
       "      <td>81.00</td>\n",
       "      <td>77.06</td>\n",
       "      <td>81.04</td>\n",
       "      <td>66.52</td>\n",
       "      <td>53.53</td>\n",
       "    </tr>\n",
       "    <tr>\n",
       "      <th>50%</th>\n",
       "      <td>2283.00</td>\n",
       "      <td>83.73</td>\n",
       "      <td>83.06</td>\n",
       "      <td>95.85</td>\n",
       "      <td>92.51</td>\n",
       "      <td>89.23</td>\n",
       "    </tr>\n",
       "    <tr>\n",
       "      <th>75%</th>\n",
       "      <td>3474.00</td>\n",
       "      <td>83.89</td>\n",
       "      <td>83.40</td>\n",
       "      <td>96.58</td>\n",
       "      <td>93.63</td>\n",
       "      <td>90.56</td>\n",
       "    </tr>\n",
       "    <tr>\n",
       "      <th>max</th>\n",
       "      <td>4976.00</td>\n",
       "      <td>84.04</td>\n",
       "      <td>83.84</td>\n",
       "      <td>97.29</td>\n",
       "      <td>94.59</td>\n",
       "      <td>91.33</td>\n",
       "    </tr>\n",
       "  </tbody>\n",
       "</table>\n",
       "</div>"
      ],
      "text/plain": [
       "       Total Estudantes  Nota Média Aprovação Redação  \\\n",
       "count             15.00                         15.00   \n",
       "mean            2610.67                         82.53   \n",
       "std             1421.41                          1.52   \n",
       "min              427.00                         80.74   \n",
       "25%             1693.00                         81.00   \n",
       "50%             2283.00                         83.73   \n",
       "75%             3474.00                         83.89   \n",
       "max             4976.00                         84.04   \n",
       "\n",
       "       Nota Média Aprovação Matemática  % Aprovados Redação  \\\n",
       "count                            15.00                15.00   \n",
       "mean                             80.43                89.22   \n",
       "std                               3.38                 8.18   \n",
       "min                              76.63                79.30   \n",
       "25%                              77.06                81.04   \n",
       "50%                              83.06                95.85   \n",
       "75%                              83.40                96.58   \n",
       "max                              83.84                97.29   \n",
       "\n",
       "       % Aprovados Matemática  % Geral Aprovados  \n",
       "count                   15.00              15.00  \n",
       "mean                    80.98              73.27  \n",
       "std                     14.00              18.99  \n",
       "min                     65.68              52.99  \n",
       "25%                     66.52              53.53  \n",
       "50%                     92.51              89.23  \n",
       "75%                     93.63              90.56  \n",
       "max                     94.59              91.33  "
      ]
     },
     "execution_count": 64,
     "metadata": {},
     "output_type": "execute_result"
    }
   ],
   "source": [
    "# Resumo estatístico dos dados\n",
    "df_resumo_performance_escolar.describe()"
   ]
  },
  {
   "cell_type": "markdown",
   "metadata": {},
   "source": [
    "**11-A- Considerando a taxa geral de aprovados, quais as 5 escolas com melhor performance?**"
   ]
  },
  {
   "cell_type": "code",
   "execution_count": 65,
   "metadata": {
    "scrolled": true
   },
   "outputs": [
    {
     "data": {
      "text/html": [
       "<div>\n",
       "<style scoped>\n",
       "    .dataframe tbody tr th:only-of-type {\n",
       "        vertical-align: middle;\n",
       "    }\n",
       "\n",
       "    .dataframe tbody tr th {\n",
       "        vertical-align: top;\n",
       "    }\n",
       "\n",
       "    .dataframe thead th {\n",
       "        text-align: right;\n",
       "    }\n",
       "</style>\n",
       "<table border=\"1\" class=\"dataframe\">\n",
       "  <thead>\n",
       "    <tr style=\"text-align: right;\">\n",
       "      <th></th>\n",
       "      <th>Tipo Escola</th>\n",
       "      <th>Total Estudantes</th>\n",
       "      <th>Total Orçamento</th>\n",
       "      <th>Orçamento Por Estudante</th>\n",
       "      <th>Nota Média Aprovação Redação</th>\n",
       "      <th>Nota Média Aprovação Matemática</th>\n",
       "      <th>% Aprovados Redação</th>\n",
       "      <th>% Aprovados Matemática</th>\n",
       "      <th>% Geral Aprovados</th>\n",
       "    </tr>\n",
       "  </thead>\n",
       "  <tbody>\n",
       "    <tr>\n",
       "      <th>Escola G</th>\n",
       "      <td>Particular</td>\n",
       "      <td>1858</td>\n",
       "      <td>$1,081,356.00</td>\n",
       "      <td>$582.00</td>\n",
       "      <td>83.98</td>\n",
       "      <td>83.06</td>\n",
       "      <td>97.04</td>\n",
       "      <td>94.13</td>\n",
       "      <td>91.33</td>\n",
       "    </tr>\n",
       "    <tr>\n",
       "      <th>Escola O</th>\n",
       "      <td>Particular</td>\n",
       "      <td>1625</td>\n",
       "      <td>$1,043,130.00</td>\n",
       "      <td>$641.93</td>\n",
       "      <td>83.81</td>\n",
       "      <td>83.44</td>\n",
       "      <td>97.29</td>\n",
       "      <td>93.23</td>\n",
       "      <td>90.89</td>\n",
       "    </tr>\n",
       "    <tr>\n",
       "      <th>Escola E</th>\n",
       "      <td>Particular</td>\n",
       "      <td>1468</td>\n",
       "      <td>$917,500.00</td>\n",
       "      <td>$625.00</td>\n",
       "      <td>83.82</td>\n",
       "      <td>83.35</td>\n",
       "      <td>97.14</td>\n",
       "      <td>93.39</td>\n",
       "      <td>90.60</td>\n",
       "    </tr>\n",
       "    <tr>\n",
       "      <th>Escola F</th>\n",
       "      <td>Particular</td>\n",
       "      <td>2283</td>\n",
       "      <td>$1,319,574.00</td>\n",
       "      <td>$578.00</td>\n",
       "      <td>83.99</td>\n",
       "      <td>83.27</td>\n",
       "      <td>96.54</td>\n",
       "      <td>93.87</td>\n",
       "      <td>90.58</td>\n",
       "    </tr>\n",
       "    <tr>\n",
       "      <th>Escola J</th>\n",
       "      <td>Particular</td>\n",
       "      <td>962</td>\n",
       "      <td>$585,858.00</td>\n",
       "      <td>$609.00</td>\n",
       "      <td>84.04</td>\n",
       "      <td>83.84</td>\n",
       "      <td>95.95</td>\n",
       "      <td>94.59</td>\n",
       "      <td>90.54</td>\n",
       "    </tr>\n",
       "  </tbody>\n",
       "</table>\n",
       "</div>"
      ],
      "text/plain": [
       "         Tipo Escola  Total Estudantes Total Orçamento  \\\n",
       "Escola G  Particular              1858   $1,081,356.00   \n",
       "Escola O  Particular              1625   $1,043,130.00   \n",
       "Escola E  Particular              1468     $917,500.00   \n",
       "Escola F  Particular              2283   $1,319,574.00   \n",
       "Escola J  Particular               962     $585,858.00   \n",
       "\n",
       "         Orçamento Por Estudante  Nota Média Aprovação Redação  \\\n",
       "Escola G                 $582.00                         83.98   \n",
       "Escola O                 $641.93                         83.81   \n",
       "Escola E                 $625.00                         83.82   \n",
       "Escola F                 $578.00                         83.99   \n",
       "Escola J                 $609.00                         84.04   \n",
       "\n",
       "          Nota Média Aprovação Matemática  % Aprovados Redação  \\\n",
       "Escola G                            83.06                97.04   \n",
       "Escola O                            83.44                97.29   \n",
       "Escola E                            83.35                97.14   \n",
       "Escola F                            83.27                96.54   \n",
       "Escola J                            83.84                95.95   \n",
       "\n",
       "          % Aprovados Matemática  % Geral Aprovados  \n",
       "Escola G                   94.13              91.33  \n",
       "Escola O                   93.23              90.89  \n",
       "Escola E                   93.39              90.60  \n",
       "Escola F                   93.87              90.58  \n",
       "Escola J                   94.59              90.54  "
      ]
     },
     "execution_count": 65,
     "metadata": {},
     "output_type": "execute_result"
    }
   ],
   "source": [
    "# Ordenando o dataset pela coluna % Geral Aprovados\n",
    "# maior para menor: Ascending=False\n",
    "top_escolas = df_resumo_performance_escolar.sort_values([\"% Geral Aprovados\"], ascending = False)\n",
    "top_escolas.head(5)"
   ]
  },
  {
   "cell_type": "markdown",
   "metadata": {},
   "source": [
    "**11-B- Considerando a taxa geral de aprovados, quais as 5 escolas com pior performance?**"
   ]
  },
  {
   "cell_type": "code",
   "execution_count": 66,
   "metadata": {},
   "outputs": [
    {
     "data": {
      "text/html": [
       "<div>\n",
       "<style scoped>\n",
       "    .dataframe tbody tr th:only-of-type {\n",
       "        vertical-align: middle;\n",
       "    }\n",
       "\n",
       "    .dataframe tbody tr th {\n",
       "        vertical-align: top;\n",
       "    }\n",
       "\n",
       "    .dataframe thead th {\n",
       "        text-align: right;\n",
       "    }\n",
       "</style>\n",
       "<table border=\"1\" class=\"dataframe\">\n",
       "  <thead>\n",
       "    <tr style=\"text-align: right;\">\n",
       "      <th></th>\n",
       "      <th>Tipo Escola</th>\n",
       "      <th>Total Estudantes</th>\n",
       "      <th>Total Orçamento</th>\n",
       "      <th>Orçamento Por Estudante</th>\n",
       "      <th>Nota Média Aprovação Redação</th>\n",
       "      <th>Nota Média Aprovação Matemática</th>\n",
       "      <th>% Aprovados Redação</th>\n",
       "      <th>% Aprovados Matemática</th>\n",
       "      <th>% Geral Aprovados</th>\n",
       "    </tr>\n",
       "  </thead>\n",
       "  <tbody>\n",
       "    <tr>\n",
       "      <th>Escola L</th>\n",
       "      <td>Publica</td>\n",
       "      <td>3999</td>\n",
       "      <td>$2,547,363.00</td>\n",
       "      <td>$637.00</td>\n",
       "      <td>80.74</td>\n",
       "      <td>76.84</td>\n",
       "      <td>80.22</td>\n",
       "      <td>66.37</td>\n",
       "      <td>52.99</td>\n",
       "    </tr>\n",
       "    <tr>\n",
       "      <th>Escola B</th>\n",
       "      <td>Publica</td>\n",
       "      <td>2949</td>\n",
       "      <td>$1,884,411.00</td>\n",
       "      <td>$639.00</td>\n",
       "      <td>81.16</td>\n",
       "      <td>76.71</td>\n",
       "      <td>80.74</td>\n",
       "      <td>65.99</td>\n",
       "      <td>53.20</td>\n",
       "    </tr>\n",
       "    <tr>\n",
       "      <th>Escola A</th>\n",
       "      <td>Publica</td>\n",
       "      <td>2917</td>\n",
       "      <td>$1,910,635.00</td>\n",
       "      <td>$655.00</td>\n",
       "      <td>81.18</td>\n",
       "      <td>76.63</td>\n",
       "      <td>81.32</td>\n",
       "      <td>65.68</td>\n",
       "      <td>53.51</td>\n",
       "    </tr>\n",
       "    <tr>\n",
       "      <th>Escola D</th>\n",
       "      <td>Publica</td>\n",
       "      <td>4635</td>\n",
       "      <td>$3,022,020.00</td>\n",
       "      <td>$652.00</td>\n",
       "      <td>80.93</td>\n",
       "      <td>77.29</td>\n",
       "      <td>80.86</td>\n",
       "      <td>66.75</td>\n",
       "      <td>53.53</td>\n",
       "    </tr>\n",
       "    <tr>\n",
       "      <th>Escola M</th>\n",
       "      <td>Publica</td>\n",
       "      <td>4761</td>\n",
       "      <td>$3,094,650.00</td>\n",
       "      <td>$650.00</td>\n",
       "      <td>80.97</td>\n",
       "      <td>77.07</td>\n",
       "      <td>81.22</td>\n",
       "      <td>66.06</td>\n",
       "      <td>53.54</td>\n",
       "    </tr>\n",
       "  </tbody>\n",
       "</table>\n",
       "</div>"
      ],
      "text/plain": [
       "         Tipo Escola  Total Estudantes Total Orçamento  \\\n",
       "Escola L     Publica              3999   $2,547,363.00   \n",
       "Escola B     Publica              2949   $1,884,411.00   \n",
       "Escola A     Publica              2917   $1,910,635.00   \n",
       "Escola D     Publica              4635   $3,022,020.00   \n",
       "Escola M     Publica              4761   $3,094,650.00   \n",
       "\n",
       "         Orçamento Por Estudante  Nota Média Aprovação Redação  \\\n",
       "Escola L                 $637.00                         80.74   \n",
       "Escola B                 $639.00                         81.16   \n",
       "Escola A                 $655.00                         81.18   \n",
       "Escola D                 $652.00                         80.93   \n",
       "Escola M                 $650.00                         80.97   \n",
       "\n",
       "          Nota Média Aprovação Matemática  % Aprovados Redação  \\\n",
       "Escola L                            76.84                80.22   \n",
       "Escola B                            76.71                80.74   \n",
       "Escola A                            76.63                81.32   \n",
       "Escola D                            77.29                80.86   \n",
       "Escola M                            77.07                81.22   \n",
       "\n",
       "          % Aprovados Matemática  % Geral Aprovados  \n",
       "Escola L                   66.37              52.99  \n",
       "Escola B                   65.99              53.20  \n",
       "Escola A                   65.68              53.51  \n",
       "Escola D                   66.75              53.53  \n",
       "Escola M                   66.06              53.54  "
      ]
     },
     "execution_count": 66,
     "metadata": {},
     "output_type": "execute_result"
    }
   ],
   "source": [
    "# Ordenando o dataset pela coluna % Geral Aprovados\n",
    "# menor para maior: Ascending= True\n",
    "top_escolas = df_resumo_performance_escolar.sort_values([\"% Geral Aprovados\"], ascending = False)\n",
    "top_escolas.head(5)\n",
    "bottom_escolas = df_resumo_performance_escolar.sort_values([\"% Geral Aprovados\"], ascending = True)\n",
    "bottom_escolas.head(5)"
   ]
  },
  {
   "cell_type": "code",
   "execution_count": 67,
   "metadata": {},
   "outputs": [
    {
     "data": {
      "text/plain": [
       "Index(['ID_Estudante', 'Nome_Estudante', 'Genero', 'Serie', 'Nome_Escola',\n",
       "       'Nota_Redacao', 'Nota_Matematica', 'ID_Escola', 'Tipo_Escola',\n",
       "       'Numero_Alunos', 'Orcamento_Anual'],\n",
       "      dtype='object')"
      ]
     },
     "execution_count": 67,
     "metadata": {},
     "output_type": "execute_result"
    }
   ],
   "source": [
    "dados_full.columns"
   ]
  },
  {
   "cell_type": "markdown",
   "metadata": {
    "collapsed": true
   },
   "source": [
    "**12- Em cada série, qual escola teve os alunos com melhor performance em Matemática?**"
   ]
  },
  {
   "cell_type": "code",
   "execution_count": 68,
   "metadata": {},
   "outputs": [],
   "source": [
    "# Criado 4 subset\n",
    "sexta_serie = dados_full[(dados_full[\"Serie\"] == 6)]\n",
    "setima_serie = dados_full[(dados_full[\"Serie\"] == 7)]\n",
    "oitava_serie = dados_full[(dados_full[\"Serie\"] == 8)]\n",
    "nona_serie = dados_full[(dados_full[\"Serie\"] == 9)]"
   ]
  },
  {
   "cell_type": "code",
   "execution_count": 69,
   "metadata": {},
   "outputs": [
    {
     "data": {
      "text/html": [
       "<div>\n",
       "<style scoped>\n",
       "    .dataframe tbody tr th:only-of-type {\n",
       "        vertical-align: middle;\n",
       "    }\n",
       "\n",
       "    .dataframe tbody tr th {\n",
       "        vertical-align: top;\n",
       "    }\n",
       "\n",
       "    .dataframe thead th {\n",
       "        text-align: right;\n",
       "    }\n",
       "</style>\n",
       "<table border=\"1\" class=\"dataframe\">\n",
       "  <thead>\n",
       "    <tr style=\"text-align: right;\">\n",
       "      <th></th>\n",
       "      <th>ID_Estudante</th>\n",
       "      <th>Nome_Estudante</th>\n",
       "      <th>Genero</th>\n",
       "      <th>Serie</th>\n",
       "      <th>Nome_Escola</th>\n",
       "      <th>Nota_Redacao</th>\n",
       "      <th>Nota_Matematica</th>\n",
       "      <th>ID_Escola</th>\n",
       "      <th>Tipo_Escola</th>\n",
       "      <th>Numero_Alunos</th>\n",
       "      <th>Orcamento_Anual</th>\n",
       "    </tr>\n",
       "  </thead>\n",
       "  <tbody>\n",
       "    <tr>\n",
       "      <th>0</th>\n",
       "      <td>0</td>\n",
       "      <td>Kevin Bradley</td>\n",
       "      <td>M</td>\n",
       "      <td>6</td>\n",
       "      <td>Escola A</td>\n",
       "      <td>66</td>\n",
       "      <td>79</td>\n",
       "      <td>0</td>\n",
       "      <td>Publica</td>\n",
       "      <td>2917</td>\n",
       "      <td>1910635</td>\n",
       "    </tr>\n",
       "    <tr>\n",
       "      <th>4</th>\n",
       "      <td>4</td>\n",
       "      <td>William Ray</td>\n",
       "      <td>F</td>\n",
       "      <td>6</td>\n",
       "      <td>Escola A</td>\n",
       "      <td>97</td>\n",
       "      <td>84</td>\n",
       "      <td>0</td>\n",
       "      <td>Publica</td>\n",
       "      <td>2917</td>\n",
       "      <td>1910635</td>\n",
       "    </tr>\n",
       "    <tr>\n",
       "      <th>5</th>\n",
       "      <td>5</td>\n",
       "      <td>James Miranda</td>\n",
       "      <td>M</td>\n",
       "      <td>6</td>\n",
       "      <td>Escola A</td>\n",
       "      <td>94</td>\n",
       "      <td>94</td>\n",
       "      <td>0</td>\n",
       "      <td>Publica</td>\n",
       "      <td>2917</td>\n",
       "      <td>1910635</td>\n",
       "    </tr>\n",
       "    <tr>\n",
       "      <th>12</th>\n",
       "      <td>12</td>\n",
       "      <td>Sebastian Walker</td>\n",
       "      <td>F</td>\n",
       "      <td>6</td>\n",
       "      <td>Escola A</td>\n",
       "      <td>64</td>\n",
       "      <td>79</td>\n",
       "      <td>0</td>\n",
       "      <td>Publica</td>\n",
       "      <td>2917</td>\n",
       "      <td>1910635</td>\n",
       "    </tr>\n",
       "    <tr>\n",
       "      <th>13</th>\n",
       "      <td>13</td>\n",
       "      <td>Mateo Long</td>\n",
       "      <td>M</td>\n",
       "      <td>6</td>\n",
       "      <td>Escola A</td>\n",
       "      <td>71</td>\n",
       "      <td>79</td>\n",
       "      <td>0</td>\n",
       "      <td>Publica</td>\n",
       "      <td>2917</td>\n",
       "      <td>1910635</td>\n",
       "    </tr>\n",
       "  </tbody>\n",
       "</table>\n",
       "</div>"
      ],
      "text/plain": [
       "    ID_Estudante    Nome_Estudante Genero  Serie Nome_Escola  Nota_Redacao  \\\n",
       "0              0     Kevin Bradley      M      6    Escola A            66   \n",
       "4              4       William Ray      F      6    Escola A            97   \n",
       "5              5     James Miranda      M      6    Escola A            94   \n",
       "12            12  Sebastian Walker      F      6    Escola A            64   \n",
       "13            13        Mateo Long      M      6    Escola A            71   \n",
       "\n",
       "    Nota_Matematica  ID_Escola Tipo_Escola  Numero_Alunos  Orcamento_Anual  \n",
       "0                79          0     Publica           2917          1910635  \n",
       "4                84          0     Publica           2917          1910635  \n",
       "5                94          0     Publica           2917          1910635  \n",
       "12               79          0     Publica           2917          1910635  \n",
       "13               79          0     Publica           2917          1910635  "
      ]
     },
     "execution_count": 69,
     "metadata": {},
     "output_type": "execute_result"
    }
   ],
   "source": [
    "sexta_serie.head()"
   ]
  },
  {
   "cell_type": "code",
   "execution_count": 70,
   "metadata": {},
   "outputs": [],
   "source": [
    "# Criando novos subsetes: onde estamos agrupando os dados por Nome_Escola e calculando a média para Nota_Matematica\n",
    "# Para cada um dos subsetes que criamos\n",
    "notas_sexta_serie = sexta_serie.groupby([\"Nome_Escola\"]).mean()[\"Nota_Matematica\"]\n",
    "notas_setima_serie = setima_serie.groupby([\"Nome_Escola\"]).mean()[\"Nota_Matematica\"]\n",
    "notas_oitava_serie = oitava_serie.groupby([\"Nome_Escola\"]).mean()[\"Nota_Matematica\"]\n",
    "notas_nona_serie = nona_serie.groupby([\"Nome_Escola\"]).mean()[\"Nota_Matematica\"]"
   ]
  },
  {
   "cell_type": "code",
   "execution_count": 71,
   "metadata": {},
   "outputs": [],
   "source": [
    "# Criando um data frame com todos os subsetes\n",
    "notas_por_serie = pd.DataFrame({\"Sexta Série\": notas_sexta_serie, \n",
    "                                \"Sétima Série\": notas_setima_serie,\n",
    "                                \"Oitava Série\": notas_oitava_serie, \n",
    "                                \"Nona Série\": notas_nona_serie})"
   ]
  },
  {
   "cell_type": "code",
   "execution_count": 72,
   "metadata": {},
   "outputs": [
    {
     "data": {
      "text/html": [
       "<div>\n",
       "<style scoped>\n",
       "    .dataframe tbody tr th:only-of-type {\n",
       "        vertical-align: middle;\n",
       "    }\n",
       "\n",
       "    .dataframe tbody tr th {\n",
       "        vertical-align: top;\n",
       "    }\n",
       "\n",
       "    .dataframe thead th {\n",
       "        text-align: right;\n",
       "    }\n",
       "</style>\n",
       "<table border=\"1\" class=\"dataframe\">\n",
       "  <thead>\n",
       "    <tr style=\"text-align: right;\">\n",
       "      <th></th>\n",
       "      <th>Sexta Série</th>\n",
       "      <th>Sétima Série</th>\n",
       "      <th>Oitava Série</th>\n",
       "      <th>Nona Série</th>\n",
       "    </tr>\n",
       "    <tr>\n",
       "      <th>Nome_Escola</th>\n",
       "      <th></th>\n",
       "      <th></th>\n",
       "      <th></th>\n",
       "      <th></th>\n",
       "    </tr>\n",
       "  </thead>\n",
       "  <tbody>\n",
       "    <tr>\n",
       "      <th>Escola A</th>\n",
       "      <td>77.03</td>\n",
       "      <td>75.91</td>\n",
       "      <td>76.45</td>\n",
       "      <td>77.23</td>\n",
       "    </tr>\n",
       "    <tr>\n",
       "      <th>Escola B</th>\n",
       "      <td>76.40</td>\n",
       "      <td>76.54</td>\n",
       "      <td>76.88</td>\n",
       "      <td>77.15</td>\n",
       "    </tr>\n",
       "    <tr>\n",
       "      <th>Escola C</th>\n",
       "      <td>83.42</td>\n",
       "      <td>82.92</td>\n",
       "      <td>83.38</td>\n",
       "      <td>83.78</td>\n",
       "    </tr>\n",
       "    <tr>\n",
       "      <th>Escola D</th>\n",
       "      <td>77.44</td>\n",
       "      <td>77.34</td>\n",
       "      <td>77.14</td>\n",
       "      <td>77.19</td>\n",
       "    </tr>\n",
       "    <tr>\n",
       "      <th>Escola E</th>\n",
       "      <td>82.04</td>\n",
       "      <td>84.23</td>\n",
       "      <td>83.84</td>\n",
       "      <td>83.36</td>\n",
       "    </tr>\n",
       "    <tr>\n",
       "      <th>Escola F</th>\n",
       "      <td>83.09</td>\n",
       "      <td>83.72</td>\n",
       "      <td>83.20</td>\n",
       "      <td>83.04</td>\n",
       "    </tr>\n",
       "    <tr>\n",
       "      <th>Escola G</th>\n",
       "      <td>83.09</td>\n",
       "      <td>83.15</td>\n",
       "      <td>82.77</td>\n",
       "      <td>83.28</td>\n",
       "    </tr>\n",
       "    <tr>\n",
       "      <th>Escola H</th>\n",
       "      <td>77.08</td>\n",
       "      <td>77.00</td>\n",
       "      <td>77.52</td>\n",
       "      <td>76.49</td>\n",
       "    </tr>\n",
       "    <tr>\n",
       "      <th>Escola I</th>\n",
       "      <td>83.79</td>\n",
       "      <td>83.43</td>\n",
       "      <td>85.00</td>\n",
       "      <td>82.86</td>\n",
       "    </tr>\n",
       "    <tr>\n",
       "      <th>Escola J</th>\n",
       "      <td>83.63</td>\n",
       "      <td>83.37</td>\n",
       "      <td>84.33</td>\n",
       "      <td>84.12</td>\n",
       "    </tr>\n",
       "    <tr>\n",
       "      <th>Escola K</th>\n",
       "      <td>83.26</td>\n",
       "      <td>84.01</td>\n",
       "      <td>83.84</td>\n",
       "      <td>83.64</td>\n",
       "    </tr>\n",
       "    <tr>\n",
       "      <th>Escola L</th>\n",
       "      <td>76.86</td>\n",
       "      <td>76.61</td>\n",
       "      <td>76.40</td>\n",
       "      <td>77.69</td>\n",
       "    </tr>\n",
       "    <tr>\n",
       "      <th>Escola M</th>\n",
       "      <td>77.19</td>\n",
       "      <td>76.69</td>\n",
       "      <td>77.49</td>\n",
       "      <td>76.86</td>\n",
       "    </tr>\n",
       "    <tr>\n",
       "      <th>Escola N</th>\n",
       "      <td>77.36</td>\n",
       "      <td>77.67</td>\n",
       "      <td>76.92</td>\n",
       "      <td>76.18</td>\n",
       "    </tr>\n",
       "    <tr>\n",
       "      <th>Escola O</th>\n",
       "      <td>83.61</td>\n",
       "      <td>83.10</td>\n",
       "      <td>83.53</td>\n",
       "      <td>83.50</td>\n",
       "    </tr>\n",
       "  </tbody>\n",
       "</table>\n",
       "</div>"
      ],
      "text/plain": [
       "             Sexta Série  Sétima Série  Oitava Série  Nona Série\n",
       "Nome_Escola                                                     \n",
       "Escola A           77.03         75.91         76.45       77.23\n",
       "Escola B           76.40         76.54         76.88       77.15\n",
       "Escola C           83.42         82.92         83.38       83.78\n",
       "Escola D           77.44         77.34         77.14       77.19\n",
       "Escola E           82.04         84.23         83.84       83.36\n",
       "Escola F           83.09         83.72         83.20       83.04\n",
       "Escola G           83.09         83.15         82.77       83.28\n",
       "Escola H           77.08         77.00         77.52       76.49\n",
       "Escola I           83.79         83.43         85.00       82.86\n",
       "Escola J           83.63         83.37         84.33       84.12\n",
       "Escola K           83.26         84.01         83.84       83.64\n",
       "Escola L           76.86         76.61         76.40       77.69\n",
       "Escola M           77.19         76.69         77.49       76.86\n",
       "Escola N           77.36         77.67         76.92       76.18\n",
       "Escola O           83.61         83.10         83.53       83.50"
      ]
     },
     "execution_count": 72,
     "metadata": {},
     "output_type": "execute_result"
    }
   ],
   "source": [
    "# Ordenando dataframe por Nome_Escola\n",
    "notas_por_serie.sort_values(by = \"Nome_Escola\")"
   ]
  },
  {
   "cell_type": "code",
   "execution_count": 73,
   "metadata": {},
   "outputs": [
    {
     "data": {
      "text/plain": [
       "'Escola I'"
      ]
     },
     "execution_count": 73,
     "metadata": {},
     "output_type": "execute_result"
    }
   ],
   "source": [
    "# Indice de maior valor para a coluna sexta série\n",
    "notas_por_serie[\"Sexta Série\"].idxmax()"
   ]
  },
  {
   "cell_type": "code",
   "execution_count": 74,
   "metadata": {},
   "outputs": [
    {
     "data": {
      "text/plain": [
       "'Escola E'"
      ]
     },
     "execution_count": 74,
     "metadata": {},
     "output_type": "execute_result"
    }
   ],
   "source": [
    "notas_por_serie[\"Sétima Série\"].idxmax()"
   ]
  },
  {
   "cell_type": "code",
   "execution_count": 75,
   "metadata": {},
   "outputs": [
    {
     "data": {
      "text/plain": [
       "'Escola I'"
      ]
     },
     "execution_count": 75,
     "metadata": {},
     "output_type": "execute_result"
    }
   ],
   "source": [
    "notas_por_serie[\"Oitava Série\"].idxmax()"
   ]
  },
  {
   "cell_type": "code",
   "execution_count": 76,
   "metadata": {},
   "outputs": [
    {
     "data": {
      "text/plain": [
       "'Escola J'"
      ]
     },
     "execution_count": 76,
     "metadata": {},
     "output_type": "execute_result"
    }
   ],
   "source": [
    "notas_por_serie[\"Nona Série\"].idxmax()"
   ]
  },
  {
   "cell_type": "markdown",
   "metadata": {},
   "source": [
    "**13- Considerando as faixas de gastos por estudante como sendo: [0, 585, 630, 645, 680], qual faixa resulta em estudantes com melhor performance?**"
   ]
  },
  {
   "cell_type": "code",
   "execution_count": 77,
   "metadata": {},
   "outputs": [
    {
     "data": {
      "text/plain": [
       "Index(['Tipo Escola', 'Total Estudantes', 'Total Orçamento',\n",
       "       'Orçamento Por Estudante', 'Nota Média Aprovação Redação',\n",
       "       'Nota Média Aprovação Matemática', '% Aprovados Redação',\n",
       "       '% Aprovados Matemática', '% Geral Aprovados'],\n",
       "      dtype='object')"
      ]
     },
     "execution_count": 77,
     "metadata": {},
     "output_type": "execute_result"
    }
   ],
   "source": [
    "df_resumo_performance_escolar.columns"
   ]
  },
  {
   "cell_type": "code",
   "execution_count": 78,
   "metadata": {},
   "outputs": [],
   "source": [
    "# 1º: fazer a divisão por faixas \n",
    "faixas_bins = [0, 585, 630, 645, 680] #valores numericos\n",
    "labels_faixas = [\"<$585\", \"$585-630\", \"$630-645\", \"$645-680\"] # valores strings"
   ]
  },
  {
   "cell_type": "code",
   "execution_count": 79,
   "metadata": {},
   "outputs": [],
   "source": [
    "# # 2º: Criar uma nova coluna no dataset (cut)\n",
    "# Criando uma nova coluna \"Faixa de Gastos por estudante\"\n",
    "# Aplicando os bins e label_faixas criadas acima\n",
    "df_resumo_performance_escolar[\"Faixa de Gastos Por Estudante\"] = pd.cut(orc_escola_percapita, \n",
    "                                                                        faixas_bins, \n",
    "                                                                        labels = labels_faixas, \n",
    "                                                                        right = False)"
   ]
  },
  {
   "cell_type": "code",
   "execution_count": 80,
   "metadata": {},
   "outputs": [
    {
     "data": {
      "text/html": [
       "<div>\n",
       "<style scoped>\n",
       "    .dataframe tbody tr th:only-of-type {\n",
       "        vertical-align: middle;\n",
       "    }\n",
       "\n",
       "    .dataframe tbody tr th {\n",
       "        vertical-align: top;\n",
       "    }\n",
       "\n",
       "    .dataframe thead th {\n",
       "        text-align: right;\n",
       "    }\n",
       "</style>\n",
       "<table border=\"1\" class=\"dataframe\">\n",
       "  <thead>\n",
       "    <tr style=\"text-align: right;\">\n",
       "      <th></th>\n",
       "      <th>Tipo Escola</th>\n",
       "      <th>Total Estudantes</th>\n",
       "      <th>Total Orçamento</th>\n",
       "      <th>Orçamento Por Estudante</th>\n",
       "      <th>Nota Média Aprovação Redação</th>\n",
       "      <th>Nota Média Aprovação Matemática</th>\n",
       "      <th>% Aprovados Redação</th>\n",
       "      <th>% Aprovados Matemática</th>\n",
       "      <th>% Geral Aprovados</th>\n",
       "      <th>Faixa de Gastos Por Estudante</th>\n",
       "    </tr>\n",
       "  </thead>\n",
       "  <tbody>\n",
       "    <tr>\n",
       "      <th>Escola A</th>\n",
       "      <td>Publica</td>\n",
       "      <td>2917</td>\n",
       "      <td>$1,910,635.00</td>\n",
       "      <td>$655.00</td>\n",
       "      <td>81.18</td>\n",
       "      <td>76.63</td>\n",
       "      <td>81.32</td>\n",
       "      <td>65.68</td>\n",
       "      <td>53.51</td>\n",
       "      <td>$645-680</td>\n",
       "    </tr>\n",
       "    <tr>\n",
       "      <th>Escola B</th>\n",
       "      <td>Publica</td>\n",
       "      <td>2949</td>\n",
       "      <td>$1,884,411.00</td>\n",
       "      <td>$639.00</td>\n",
       "      <td>81.16</td>\n",
       "      <td>76.71</td>\n",
       "      <td>80.74</td>\n",
       "      <td>65.99</td>\n",
       "      <td>53.20</td>\n",
       "      <td>$630-645</td>\n",
       "    </tr>\n",
       "    <tr>\n",
       "      <th>Escola C</th>\n",
       "      <td>Particular</td>\n",
       "      <td>1761</td>\n",
       "      <td>$1,056,600.00</td>\n",
       "      <td>$600.00</td>\n",
       "      <td>83.73</td>\n",
       "      <td>83.36</td>\n",
       "      <td>95.85</td>\n",
       "      <td>93.87</td>\n",
       "      <td>89.89</td>\n",
       "      <td>$585-630</td>\n",
       "    </tr>\n",
       "    <tr>\n",
       "      <th>Escola D</th>\n",
       "      <td>Publica</td>\n",
       "      <td>4635</td>\n",
       "      <td>$3,022,020.00</td>\n",
       "      <td>$652.00</td>\n",
       "      <td>80.93</td>\n",
       "      <td>77.29</td>\n",
       "      <td>80.86</td>\n",
       "      <td>66.75</td>\n",
       "      <td>53.53</td>\n",
       "      <td>$645-680</td>\n",
       "    </tr>\n",
       "    <tr>\n",
       "      <th>Escola E</th>\n",
       "      <td>Particular</td>\n",
       "      <td>1468</td>\n",
       "      <td>$917,500.00</td>\n",
       "      <td>$625.00</td>\n",
       "      <td>83.82</td>\n",
       "      <td>83.35</td>\n",
       "      <td>97.14</td>\n",
       "      <td>93.39</td>\n",
       "      <td>90.60</td>\n",
       "      <td>$585-630</td>\n",
       "    </tr>\n",
       "    <tr>\n",
       "      <th>Escola F</th>\n",
       "      <td>Particular</td>\n",
       "      <td>2283</td>\n",
       "      <td>$1,319,574.00</td>\n",
       "      <td>$578.00</td>\n",
       "      <td>83.99</td>\n",
       "      <td>83.27</td>\n",
       "      <td>96.54</td>\n",
       "      <td>93.87</td>\n",
       "      <td>90.58</td>\n",
       "      <td>&lt;$585</td>\n",
       "    </tr>\n",
       "    <tr>\n",
       "      <th>Escola G</th>\n",
       "      <td>Particular</td>\n",
       "      <td>1858</td>\n",
       "      <td>$1,081,356.00</td>\n",
       "      <td>$582.00</td>\n",
       "      <td>83.98</td>\n",
       "      <td>83.06</td>\n",
       "      <td>97.04</td>\n",
       "      <td>94.13</td>\n",
       "      <td>91.33</td>\n",
       "      <td>&lt;$585</td>\n",
       "    </tr>\n",
       "    <tr>\n",
       "      <th>Escola H</th>\n",
       "      <td>Publica</td>\n",
       "      <td>4976</td>\n",
       "      <td>$3,124,928.00</td>\n",
       "      <td>$628.00</td>\n",
       "      <td>81.03</td>\n",
       "      <td>77.05</td>\n",
       "      <td>81.93</td>\n",
       "      <td>66.68</td>\n",
       "      <td>54.64</td>\n",
       "      <td>$585-630</td>\n",
       "    </tr>\n",
       "    <tr>\n",
       "      <th>Escola I</th>\n",
       "      <td>Particular</td>\n",
       "      <td>427</td>\n",
       "      <td>$248,087.00</td>\n",
       "      <td>$581.00</td>\n",
       "      <td>83.81</td>\n",
       "      <td>83.80</td>\n",
       "      <td>96.25</td>\n",
       "      <td>92.51</td>\n",
       "      <td>89.23</td>\n",
       "      <td>&lt;$585</td>\n",
       "    </tr>\n",
       "    <tr>\n",
       "      <th>Escola J</th>\n",
       "      <td>Particular</td>\n",
       "      <td>962</td>\n",
       "      <td>$585,858.00</td>\n",
       "      <td>$609.00</td>\n",
       "      <td>84.04</td>\n",
       "      <td>83.84</td>\n",
       "      <td>95.95</td>\n",
       "      <td>94.59</td>\n",
       "      <td>90.54</td>\n",
       "      <td>$585-630</td>\n",
       "    </tr>\n",
       "    <tr>\n",
       "      <th>Escola K</th>\n",
       "      <td>Particular</td>\n",
       "      <td>1800</td>\n",
       "      <td>$1,049,400.00</td>\n",
       "      <td>$583.00</td>\n",
       "      <td>83.95</td>\n",
       "      <td>83.68</td>\n",
       "      <td>96.61</td>\n",
       "      <td>93.33</td>\n",
       "      <td>90.33</td>\n",
       "      <td>&lt;$585</td>\n",
       "    </tr>\n",
       "    <tr>\n",
       "      <th>Escola L</th>\n",
       "      <td>Publica</td>\n",
       "      <td>3999</td>\n",
       "      <td>$2,547,363.00</td>\n",
       "      <td>$637.00</td>\n",
       "      <td>80.74</td>\n",
       "      <td>76.84</td>\n",
       "      <td>80.22</td>\n",
       "      <td>66.37</td>\n",
       "      <td>52.99</td>\n",
       "      <td>$630-645</td>\n",
       "    </tr>\n",
       "    <tr>\n",
       "      <th>Escola M</th>\n",
       "      <td>Publica</td>\n",
       "      <td>4761</td>\n",
       "      <td>$3,094,650.00</td>\n",
       "      <td>$650.00</td>\n",
       "      <td>80.97</td>\n",
       "      <td>77.07</td>\n",
       "      <td>81.22</td>\n",
       "      <td>66.06</td>\n",
       "      <td>53.54</td>\n",
       "      <td>$645-680</td>\n",
       "    </tr>\n",
       "    <tr>\n",
       "      <th>Escola N</th>\n",
       "      <td>Publica</td>\n",
       "      <td>2739</td>\n",
       "      <td>$1,763,916.00</td>\n",
       "      <td>$644.00</td>\n",
       "      <td>80.75</td>\n",
       "      <td>77.10</td>\n",
       "      <td>79.30</td>\n",
       "      <td>68.31</td>\n",
       "      <td>54.29</td>\n",
       "      <td>$630-645</td>\n",
       "    </tr>\n",
       "    <tr>\n",
       "      <th>Escola O</th>\n",
       "      <td>Particular</td>\n",
       "      <td>1625</td>\n",
       "      <td>$1,043,130.00</td>\n",
       "      <td>$641.93</td>\n",
       "      <td>83.81</td>\n",
       "      <td>83.44</td>\n",
       "      <td>97.29</td>\n",
       "      <td>93.23</td>\n",
       "      <td>90.89</td>\n",
       "      <td>$630-645</td>\n",
       "    </tr>\n",
       "  </tbody>\n",
       "</table>\n",
       "</div>"
      ],
      "text/plain": [
       "         Tipo Escola  Total Estudantes Total Orçamento  \\\n",
       "Escola A     Publica              2917   $1,910,635.00   \n",
       "Escola B     Publica              2949   $1,884,411.00   \n",
       "Escola C  Particular              1761   $1,056,600.00   \n",
       "Escola D     Publica              4635   $3,022,020.00   \n",
       "Escola E  Particular              1468     $917,500.00   \n",
       "Escola F  Particular              2283   $1,319,574.00   \n",
       "Escola G  Particular              1858   $1,081,356.00   \n",
       "Escola H     Publica              4976   $3,124,928.00   \n",
       "Escola I  Particular               427     $248,087.00   \n",
       "Escola J  Particular               962     $585,858.00   \n",
       "Escola K  Particular              1800   $1,049,400.00   \n",
       "Escola L     Publica              3999   $2,547,363.00   \n",
       "Escola M     Publica              4761   $3,094,650.00   \n",
       "Escola N     Publica              2739   $1,763,916.00   \n",
       "Escola O  Particular              1625   $1,043,130.00   \n",
       "\n",
       "         Orçamento Por Estudante  Nota Média Aprovação Redação  \\\n",
       "Escola A                 $655.00                         81.18   \n",
       "Escola B                 $639.00                         81.16   \n",
       "Escola C                 $600.00                         83.73   \n",
       "Escola D                 $652.00                         80.93   \n",
       "Escola E                 $625.00                         83.82   \n",
       "Escola F                 $578.00                         83.99   \n",
       "Escola G                 $582.00                         83.98   \n",
       "Escola H                 $628.00                         81.03   \n",
       "Escola I                 $581.00                         83.81   \n",
       "Escola J                 $609.00                         84.04   \n",
       "Escola K                 $583.00                         83.95   \n",
       "Escola L                 $637.00                         80.74   \n",
       "Escola M                 $650.00                         80.97   \n",
       "Escola N                 $644.00                         80.75   \n",
       "Escola O                 $641.93                         83.81   \n",
       "\n",
       "          Nota Média Aprovação Matemática  % Aprovados Redação  \\\n",
       "Escola A                            76.63                81.32   \n",
       "Escola B                            76.71                80.74   \n",
       "Escola C                            83.36                95.85   \n",
       "Escola D                            77.29                80.86   \n",
       "Escola E                            83.35                97.14   \n",
       "Escola F                            83.27                96.54   \n",
       "Escola G                            83.06                97.04   \n",
       "Escola H                            77.05                81.93   \n",
       "Escola I                            83.80                96.25   \n",
       "Escola J                            83.84                95.95   \n",
       "Escola K                            83.68                96.61   \n",
       "Escola L                            76.84                80.22   \n",
       "Escola M                            77.07                81.22   \n",
       "Escola N                            77.10                79.30   \n",
       "Escola O                            83.44                97.29   \n",
       "\n",
       "          % Aprovados Matemática  % Geral Aprovados  \\\n",
       "Escola A                   65.68              53.51   \n",
       "Escola B                   65.99              53.20   \n",
       "Escola C                   93.87              89.89   \n",
       "Escola D                   66.75              53.53   \n",
       "Escola E                   93.39              90.60   \n",
       "Escola F                   93.87              90.58   \n",
       "Escola G                   94.13              91.33   \n",
       "Escola H                   66.68              54.64   \n",
       "Escola I                   92.51              89.23   \n",
       "Escola J                   94.59              90.54   \n",
       "Escola K                   93.33              90.33   \n",
       "Escola L                   66.37              52.99   \n",
       "Escola M                   66.06              53.54   \n",
       "Escola N                   68.31              54.29   \n",
       "Escola O                   93.23              90.89   \n",
       "\n",
       "         Faixa de Gastos Por Estudante  \n",
       "Escola A                      $645-680  \n",
       "Escola B                      $630-645  \n",
       "Escola C                      $585-630  \n",
       "Escola D                      $645-680  \n",
       "Escola E                      $585-630  \n",
       "Escola F                         <$585  \n",
       "Escola G                         <$585  \n",
       "Escola H                      $585-630  \n",
       "Escola I                         <$585  \n",
       "Escola J                      $585-630  \n",
       "Escola K                         <$585  \n",
       "Escola L                      $630-645  \n",
       "Escola M                      $645-680  \n",
       "Escola N                      $630-645  \n",
       "Escola O                      $630-645  "
      ]
     },
     "execution_count": 80,
     "metadata": {},
     "output_type": "execute_result"
    }
   ],
   "source": [
    "df_resumo_performance_escolar"
   ]
  },
  {
   "cell_type": "code",
   "execution_count": 81,
   "metadata": {},
   "outputs": [
    {
     "data": {
      "text/plain": [
       "Index(['Tipo Escola', 'Total Estudantes', 'Total Orçamento',\n",
       "       'Orçamento Por Estudante', 'Nota Média Aprovação Redação',\n",
       "       'Nota Média Aprovação Matemática', '% Aprovados Redação',\n",
       "       '% Aprovados Matemática', '% Geral Aprovados',\n",
       "       'Faixa de Gastos Por Estudante'],\n",
       "      dtype='object')"
      ]
     },
     "execution_count": 81,
     "metadata": {},
     "output_type": "execute_result"
    }
   ],
   "source": [
    "df_resumo_performance_escolar.columns"
   ]
  },
  {
   "cell_type": "code",
   "execution_count": 82,
   "metadata": {},
   "outputs": [],
   "source": [
    "# Criando 5 novas subset\n",
    "# agrupando \n",
    "df_13_1 = df_resumo_performance_escolar.groupby([\"Faixa de Gastos Por Estudante\"]).mean()[\"Nota Média Aprovação Redação\"]\n",
    "df_13_2 = df_resumo_performance_escolar.groupby([\"Faixa de Gastos Por Estudante\"]).mean()[\"Nota Média Aprovação Matemática\"]\n",
    "df_13_3 = df_resumo_performance_escolar.groupby([\"Faixa de Gastos Por Estudante\"]).mean()[\"% Aprovados Redação\"]\n",
    "df_13_4 = df_resumo_performance_escolar.groupby([\"Faixa de Gastos Por Estudante\"]).mean()[\"% Aprovados Matemática\"]\n",
    "df_13_5 = df_resumo_performance_escolar.groupby([\"Faixa de Gastos Por Estudante\"]).mean()[\"% Geral Aprovados\"]"
   ]
  },
  {
   "cell_type": "code",
   "execution_count": 83,
   "metadata": {},
   "outputs": [],
   "source": [
    "# Criando um dataframe\n",
    "df_performance_gastos = pd.DataFrame({\"Média Redação\" : df_13_1.round(2),\n",
    "                                      \"Média Matemática\": df_13_2.round(2),\n",
    "                                      \"% Aprovados Redação\": df_13_3.round(2),\n",
    "                                      \"% Aprovados Matemática\": df_13_4.round(2),\n",
    "                                      \"% Geral Aprovados\": df_13_5.round(2)})"
   ]
  },
  {
   "cell_type": "markdown",
   "metadata": {},
   "source": [
    "> Insigth:\n",
    "    \n",
    "    As escolas com menor faixa de gasto por estudante tiveram o maior % geral de aprovados;\n",
    "    "
   ]
  },
  {
   "cell_type": "code",
   "execution_count": 84,
   "metadata": {},
   "outputs": [
    {
     "data": {
      "text/html": [
       "<div>\n",
       "<style scoped>\n",
       "    .dataframe tbody tr th:only-of-type {\n",
       "        vertical-align: middle;\n",
       "    }\n",
       "\n",
       "    .dataframe tbody tr th {\n",
       "        vertical-align: top;\n",
       "    }\n",
       "\n",
       "    .dataframe thead th {\n",
       "        text-align: right;\n",
       "    }\n",
       "</style>\n",
       "<table border=\"1\" class=\"dataframe\">\n",
       "  <thead>\n",
       "    <tr style=\"text-align: right;\">\n",
       "      <th></th>\n",
       "      <th>Média Redação</th>\n",
       "      <th>Média Matemática</th>\n",
       "      <th>% Aprovados Redação</th>\n",
       "      <th>% Aprovados Matemática</th>\n",
       "      <th>% Geral Aprovados</th>\n",
       "    </tr>\n",
       "    <tr>\n",
       "      <th>Faixa de Gastos Por Estudante</th>\n",
       "      <th></th>\n",
       "      <th></th>\n",
       "      <th></th>\n",
       "      <th></th>\n",
       "      <th></th>\n",
       "    </tr>\n",
       "  </thead>\n",
       "  <tbody>\n",
       "    <tr>\n",
       "      <th>&lt;$585</th>\n",
       "      <td>83.93</td>\n",
       "      <td>83.46</td>\n",
       "      <td>96.61</td>\n",
       "      <td>93.46</td>\n",
       "      <td>90.37</td>\n",
       "    </tr>\n",
       "    <tr>\n",
       "      <th>$585-630</th>\n",
       "      <td>83.16</td>\n",
       "      <td>81.90</td>\n",
       "      <td>92.72</td>\n",
       "      <td>87.13</td>\n",
       "      <td>81.42</td>\n",
       "    </tr>\n",
       "    <tr>\n",
       "      <th>$630-645</th>\n",
       "      <td>81.61</td>\n",
       "      <td>78.52</td>\n",
       "      <td>84.39</td>\n",
       "      <td>73.47</td>\n",
       "      <td>62.84</td>\n",
       "    </tr>\n",
       "    <tr>\n",
       "      <th>$645-680</th>\n",
       "      <td>81.03</td>\n",
       "      <td>77.00</td>\n",
       "      <td>81.13</td>\n",
       "      <td>66.16</td>\n",
       "      <td>53.53</td>\n",
       "    </tr>\n",
       "  </tbody>\n",
       "</table>\n",
       "</div>"
      ],
      "text/plain": [
       "                               Média Redação  Média Matemática  \\\n",
       "Faixa de Gastos Por Estudante                                    \n",
       "<$585                                  83.93             83.46   \n",
       "$585-630                               83.16             81.90   \n",
       "$630-645                               81.61             78.52   \n",
       "$645-680                               81.03             77.00   \n",
       "\n",
       "                               % Aprovados Redação  % Aprovados Matemática  \\\n",
       "Faixa de Gastos Por Estudante                                                \n",
       "<$585                                        96.61                   93.46   \n",
       "$585-630                                     92.72                   87.13   \n",
       "$630-645                                     84.39                   73.47   \n",
       "$645-680                                     81.13                   66.16   \n",
       "\n",
       "                               % Geral Aprovados  \n",
       "Faixa de Gastos Por Estudante                     \n",
       "<$585                                      90.37  \n",
       "$585-630                                   81.42  \n",
       "$630-645                                   62.84  \n",
       "$645-680                                   53.53  "
      ]
     },
     "execution_count": 84,
     "metadata": {},
     "output_type": "execute_result"
    }
   ],
   "source": [
    "df_performance_gastos"
   ]
  },
  {
   "cell_type": "markdown",
   "metadata": {},
   "source": [
    "**14- Considerando as faixas de tamanho (número de alunos) das escolas como sendo: [0, 1000, 2000, 5000], qual faixa resulta em estudantes com melhor performance?**"
   ]
  },
  {
   "cell_type": "code",
   "execution_count": 85,
   "metadata": {},
   "outputs": [
    {
     "data": {
      "text/plain": [
       "Index(['Tipo Escola', 'Total Estudantes', 'Total Orçamento',\n",
       "       'Orçamento Por Estudante', 'Nota Média Aprovação Redação',\n",
       "       'Nota Média Aprovação Matemática', '% Aprovados Redação',\n",
       "       '% Aprovados Matemática', '% Geral Aprovados',\n",
       "       'Faixa de Gastos Por Estudante'],\n",
       "      dtype='object')"
      ]
     },
     "execution_count": 85,
     "metadata": {},
     "output_type": "execute_result"
    }
   ],
   "source": [
    "df_resumo_performance_escolar.columns"
   ]
  },
  {
   "cell_type": "code",
   "execution_count": 86,
   "metadata": {},
   "outputs": [],
   "source": [
    "# 1º: fazer a divisão por faixas \n",
    "tamanho_bins = [0, 1000, 2000, 5000] # valores númericos\n",
    "labels_tamanhos = [\"Pequeno Porte (<1000)\", \"Médio Porte (1000-2000)\", \"Grande Porte (2000-5000)\"] # valores strings"
   ]
  },
  {
   "cell_type": "code",
   "execution_count": 87,
   "metadata": {},
   "outputs": [],
   "source": [
    "# Criar uma nova coluna Tamanho Escola\n",
    "# aplicando as faixas na coluna Total estudantes\n",
    "df_resumo_performance_escolar[\"Tamanho Escola\"] = pd.cut(df_resumo_performance_escolar[\"Total Estudantes\"], \n",
    "                                                         tamanho_bins, \n",
    "                                                         labels = labels_tamanhos, \n",
    "                                                         right = False)"
   ]
  },
  {
   "cell_type": "code",
   "execution_count": 88,
   "metadata": {},
   "outputs": [
    {
     "data": {
      "text/html": [
       "<div>\n",
       "<style scoped>\n",
       "    .dataframe tbody tr th:only-of-type {\n",
       "        vertical-align: middle;\n",
       "    }\n",
       "\n",
       "    .dataframe tbody tr th {\n",
       "        vertical-align: top;\n",
       "    }\n",
       "\n",
       "    .dataframe thead th {\n",
       "        text-align: right;\n",
       "    }\n",
       "</style>\n",
       "<table border=\"1\" class=\"dataframe\">\n",
       "  <thead>\n",
       "    <tr style=\"text-align: right;\">\n",
       "      <th></th>\n",
       "      <th>Tipo Escola</th>\n",
       "      <th>Total Estudantes</th>\n",
       "      <th>Total Orçamento</th>\n",
       "      <th>Orçamento Por Estudante</th>\n",
       "      <th>Nota Média Aprovação Redação</th>\n",
       "      <th>Nota Média Aprovação Matemática</th>\n",
       "      <th>% Aprovados Redação</th>\n",
       "      <th>% Aprovados Matemática</th>\n",
       "      <th>% Geral Aprovados</th>\n",
       "      <th>Faixa de Gastos Por Estudante</th>\n",
       "      <th>Tamanho Escola</th>\n",
       "    </tr>\n",
       "  </thead>\n",
       "  <tbody>\n",
       "    <tr>\n",
       "      <th>Escola A</th>\n",
       "      <td>Publica</td>\n",
       "      <td>2917</td>\n",
       "      <td>$1,910,635.00</td>\n",
       "      <td>$655.00</td>\n",
       "      <td>81.18</td>\n",
       "      <td>76.63</td>\n",
       "      <td>81.32</td>\n",
       "      <td>65.68</td>\n",
       "      <td>53.51</td>\n",
       "      <td>$645-680</td>\n",
       "      <td>Grande Porte (2000-5000)</td>\n",
       "    </tr>\n",
       "    <tr>\n",
       "      <th>Escola B</th>\n",
       "      <td>Publica</td>\n",
       "      <td>2949</td>\n",
       "      <td>$1,884,411.00</td>\n",
       "      <td>$639.00</td>\n",
       "      <td>81.16</td>\n",
       "      <td>76.71</td>\n",
       "      <td>80.74</td>\n",
       "      <td>65.99</td>\n",
       "      <td>53.20</td>\n",
       "      <td>$630-645</td>\n",
       "      <td>Grande Porte (2000-5000)</td>\n",
       "    </tr>\n",
       "    <tr>\n",
       "      <th>Escola C</th>\n",
       "      <td>Particular</td>\n",
       "      <td>1761</td>\n",
       "      <td>$1,056,600.00</td>\n",
       "      <td>$600.00</td>\n",
       "      <td>83.73</td>\n",
       "      <td>83.36</td>\n",
       "      <td>95.85</td>\n",
       "      <td>93.87</td>\n",
       "      <td>89.89</td>\n",
       "      <td>$585-630</td>\n",
       "      <td>Médio Porte (1000-2000)</td>\n",
       "    </tr>\n",
       "    <tr>\n",
       "      <th>Escola D</th>\n",
       "      <td>Publica</td>\n",
       "      <td>4635</td>\n",
       "      <td>$3,022,020.00</td>\n",
       "      <td>$652.00</td>\n",
       "      <td>80.93</td>\n",
       "      <td>77.29</td>\n",
       "      <td>80.86</td>\n",
       "      <td>66.75</td>\n",
       "      <td>53.53</td>\n",
       "      <td>$645-680</td>\n",
       "      <td>Grande Porte (2000-5000)</td>\n",
       "    </tr>\n",
       "    <tr>\n",
       "      <th>Escola E</th>\n",
       "      <td>Particular</td>\n",
       "      <td>1468</td>\n",
       "      <td>$917,500.00</td>\n",
       "      <td>$625.00</td>\n",
       "      <td>83.82</td>\n",
       "      <td>83.35</td>\n",
       "      <td>97.14</td>\n",
       "      <td>93.39</td>\n",
       "      <td>90.60</td>\n",
       "      <td>$585-630</td>\n",
       "      <td>Médio Porte (1000-2000)</td>\n",
       "    </tr>\n",
       "    <tr>\n",
       "      <th>Escola F</th>\n",
       "      <td>Particular</td>\n",
       "      <td>2283</td>\n",
       "      <td>$1,319,574.00</td>\n",
       "      <td>$578.00</td>\n",
       "      <td>83.99</td>\n",
       "      <td>83.27</td>\n",
       "      <td>96.54</td>\n",
       "      <td>93.87</td>\n",
       "      <td>90.58</td>\n",
       "      <td>&lt;$585</td>\n",
       "      <td>Grande Porte (2000-5000)</td>\n",
       "    </tr>\n",
       "    <tr>\n",
       "      <th>Escola G</th>\n",
       "      <td>Particular</td>\n",
       "      <td>1858</td>\n",
       "      <td>$1,081,356.00</td>\n",
       "      <td>$582.00</td>\n",
       "      <td>83.98</td>\n",
       "      <td>83.06</td>\n",
       "      <td>97.04</td>\n",
       "      <td>94.13</td>\n",
       "      <td>91.33</td>\n",
       "      <td>&lt;$585</td>\n",
       "      <td>Médio Porte (1000-2000)</td>\n",
       "    </tr>\n",
       "    <tr>\n",
       "      <th>Escola H</th>\n",
       "      <td>Publica</td>\n",
       "      <td>4976</td>\n",
       "      <td>$3,124,928.00</td>\n",
       "      <td>$628.00</td>\n",
       "      <td>81.03</td>\n",
       "      <td>77.05</td>\n",
       "      <td>81.93</td>\n",
       "      <td>66.68</td>\n",
       "      <td>54.64</td>\n",
       "      <td>$585-630</td>\n",
       "      <td>Grande Porte (2000-5000)</td>\n",
       "    </tr>\n",
       "    <tr>\n",
       "      <th>Escola I</th>\n",
       "      <td>Particular</td>\n",
       "      <td>427</td>\n",
       "      <td>$248,087.00</td>\n",
       "      <td>$581.00</td>\n",
       "      <td>83.81</td>\n",
       "      <td>83.80</td>\n",
       "      <td>96.25</td>\n",
       "      <td>92.51</td>\n",
       "      <td>89.23</td>\n",
       "      <td>&lt;$585</td>\n",
       "      <td>Pequeno Porte (&lt;1000)</td>\n",
       "    </tr>\n",
       "    <tr>\n",
       "      <th>Escola J</th>\n",
       "      <td>Particular</td>\n",
       "      <td>962</td>\n",
       "      <td>$585,858.00</td>\n",
       "      <td>$609.00</td>\n",
       "      <td>84.04</td>\n",
       "      <td>83.84</td>\n",
       "      <td>95.95</td>\n",
       "      <td>94.59</td>\n",
       "      <td>90.54</td>\n",
       "      <td>$585-630</td>\n",
       "      <td>Pequeno Porte (&lt;1000)</td>\n",
       "    </tr>\n",
       "    <tr>\n",
       "      <th>Escola K</th>\n",
       "      <td>Particular</td>\n",
       "      <td>1800</td>\n",
       "      <td>$1,049,400.00</td>\n",
       "      <td>$583.00</td>\n",
       "      <td>83.95</td>\n",
       "      <td>83.68</td>\n",
       "      <td>96.61</td>\n",
       "      <td>93.33</td>\n",
       "      <td>90.33</td>\n",
       "      <td>&lt;$585</td>\n",
       "      <td>Médio Porte (1000-2000)</td>\n",
       "    </tr>\n",
       "    <tr>\n",
       "      <th>Escola L</th>\n",
       "      <td>Publica</td>\n",
       "      <td>3999</td>\n",
       "      <td>$2,547,363.00</td>\n",
       "      <td>$637.00</td>\n",
       "      <td>80.74</td>\n",
       "      <td>76.84</td>\n",
       "      <td>80.22</td>\n",
       "      <td>66.37</td>\n",
       "      <td>52.99</td>\n",
       "      <td>$630-645</td>\n",
       "      <td>Grande Porte (2000-5000)</td>\n",
       "    </tr>\n",
       "    <tr>\n",
       "      <th>Escola M</th>\n",
       "      <td>Publica</td>\n",
       "      <td>4761</td>\n",
       "      <td>$3,094,650.00</td>\n",
       "      <td>$650.00</td>\n",
       "      <td>80.97</td>\n",
       "      <td>77.07</td>\n",
       "      <td>81.22</td>\n",
       "      <td>66.06</td>\n",
       "      <td>53.54</td>\n",
       "      <td>$645-680</td>\n",
       "      <td>Grande Porte (2000-5000)</td>\n",
       "    </tr>\n",
       "    <tr>\n",
       "      <th>Escola N</th>\n",
       "      <td>Publica</td>\n",
       "      <td>2739</td>\n",
       "      <td>$1,763,916.00</td>\n",
       "      <td>$644.00</td>\n",
       "      <td>80.75</td>\n",
       "      <td>77.10</td>\n",
       "      <td>79.30</td>\n",
       "      <td>68.31</td>\n",
       "      <td>54.29</td>\n",
       "      <td>$630-645</td>\n",
       "      <td>Grande Porte (2000-5000)</td>\n",
       "    </tr>\n",
       "    <tr>\n",
       "      <th>Escola O</th>\n",
       "      <td>Particular</td>\n",
       "      <td>1625</td>\n",
       "      <td>$1,043,130.00</td>\n",
       "      <td>$641.93</td>\n",
       "      <td>83.81</td>\n",
       "      <td>83.44</td>\n",
       "      <td>97.29</td>\n",
       "      <td>93.23</td>\n",
       "      <td>90.89</td>\n",
       "      <td>$630-645</td>\n",
       "      <td>Médio Porte (1000-2000)</td>\n",
       "    </tr>\n",
       "  </tbody>\n",
       "</table>\n",
       "</div>"
      ],
      "text/plain": [
       "         Tipo Escola  Total Estudantes Total Orçamento  \\\n",
       "Escola A     Publica              2917   $1,910,635.00   \n",
       "Escola B     Publica              2949   $1,884,411.00   \n",
       "Escola C  Particular              1761   $1,056,600.00   \n",
       "Escola D     Publica              4635   $3,022,020.00   \n",
       "Escola E  Particular              1468     $917,500.00   \n",
       "Escola F  Particular              2283   $1,319,574.00   \n",
       "Escola G  Particular              1858   $1,081,356.00   \n",
       "Escola H     Publica              4976   $3,124,928.00   \n",
       "Escola I  Particular               427     $248,087.00   \n",
       "Escola J  Particular               962     $585,858.00   \n",
       "Escola K  Particular              1800   $1,049,400.00   \n",
       "Escola L     Publica              3999   $2,547,363.00   \n",
       "Escola M     Publica              4761   $3,094,650.00   \n",
       "Escola N     Publica              2739   $1,763,916.00   \n",
       "Escola O  Particular              1625   $1,043,130.00   \n",
       "\n",
       "         Orçamento Por Estudante  Nota Média Aprovação Redação  \\\n",
       "Escola A                 $655.00                         81.18   \n",
       "Escola B                 $639.00                         81.16   \n",
       "Escola C                 $600.00                         83.73   \n",
       "Escola D                 $652.00                         80.93   \n",
       "Escola E                 $625.00                         83.82   \n",
       "Escola F                 $578.00                         83.99   \n",
       "Escola G                 $582.00                         83.98   \n",
       "Escola H                 $628.00                         81.03   \n",
       "Escola I                 $581.00                         83.81   \n",
       "Escola J                 $609.00                         84.04   \n",
       "Escola K                 $583.00                         83.95   \n",
       "Escola L                 $637.00                         80.74   \n",
       "Escola M                 $650.00                         80.97   \n",
       "Escola N                 $644.00                         80.75   \n",
       "Escola O                 $641.93                         83.81   \n",
       "\n",
       "          Nota Média Aprovação Matemática  % Aprovados Redação  \\\n",
       "Escola A                            76.63                81.32   \n",
       "Escola B                            76.71                80.74   \n",
       "Escola C                            83.36                95.85   \n",
       "Escola D                            77.29                80.86   \n",
       "Escola E                            83.35                97.14   \n",
       "Escola F                            83.27                96.54   \n",
       "Escola G                            83.06                97.04   \n",
       "Escola H                            77.05                81.93   \n",
       "Escola I                            83.80                96.25   \n",
       "Escola J                            83.84                95.95   \n",
       "Escola K                            83.68                96.61   \n",
       "Escola L                            76.84                80.22   \n",
       "Escola M                            77.07                81.22   \n",
       "Escola N                            77.10                79.30   \n",
       "Escola O                            83.44                97.29   \n",
       "\n",
       "          % Aprovados Matemática  % Geral Aprovados  \\\n",
       "Escola A                   65.68              53.51   \n",
       "Escola B                   65.99              53.20   \n",
       "Escola C                   93.87              89.89   \n",
       "Escola D                   66.75              53.53   \n",
       "Escola E                   93.39              90.60   \n",
       "Escola F                   93.87              90.58   \n",
       "Escola G                   94.13              91.33   \n",
       "Escola H                   66.68              54.64   \n",
       "Escola I                   92.51              89.23   \n",
       "Escola J                   94.59              90.54   \n",
       "Escola K                   93.33              90.33   \n",
       "Escola L                   66.37              52.99   \n",
       "Escola M                   66.06              53.54   \n",
       "Escola N                   68.31              54.29   \n",
       "Escola O                   93.23              90.89   \n",
       "\n",
       "         Faixa de Gastos Por Estudante            Tamanho Escola  \n",
       "Escola A                      $645-680  Grande Porte (2000-5000)  \n",
       "Escola B                      $630-645  Grande Porte (2000-5000)  \n",
       "Escola C                      $585-630   Médio Porte (1000-2000)  \n",
       "Escola D                      $645-680  Grande Porte (2000-5000)  \n",
       "Escola E                      $585-630   Médio Porte (1000-2000)  \n",
       "Escola F                         <$585  Grande Porte (2000-5000)  \n",
       "Escola G                         <$585   Médio Porte (1000-2000)  \n",
       "Escola H                      $585-630  Grande Porte (2000-5000)  \n",
       "Escola I                         <$585     Pequeno Porte (<1000)  \n",
       "Escola J                      $585-630     Pequeno Porte (<1000)  \n",
       "Escola K                         <$585   Médio Porte (1000-2000)  \n",
       "Escola L                      $630-645  Grande Porte (2000-5000)  \n",
       "Escola M                      $645-680  Grande Porte (2000-5000)  \n",
       "Escola N                      $630-645  Grande Porte (2000-5000)  \n",
       "Escola O                      $630-645   Médio Porte (1000-2000)  "
      ]
     },
     "execution_count": 88,
     "metadata": {},
     "output_type": "execute_result"
    }
   ],
   "source": [
    "df_resumo_performance_escolar"
   ]
  },
  {
   "cell_type": "code",
   "execution_count": 89,
   "metadata": {},
   "outputs": [],
   "source": [
    "# Calcular a média das metricas fazendo o agrupamento pela nova coluna que criamos\n",
    "df_14_1 = df_resumo_performance_escolar.groupby([\"Tamanho Escola\"]).mean()[\"Nota Média Aprovação Redação\"]\n",
    "df_14_2 = df_resumo_performance_escolar.groupby([\"Tamanho Escola\"]).mean()[\"Nota Média Aprovação Matemática\"]\n",
    "df_14_3 = df_resumo_performance_escolar.groupby([\"Tamanho Escola\"]).mean()[\"% Aprovados Redação\"]\n",
    "df_14_4 = df_resumo_performance_escolar.groupby([\"Tamanho Escola\"]).mean()[\"% Aprovados Matemática\"]\n",
    "df_14_5 = df_resumo_performance_escolar.groupby([\"Tamanho Escola\"]).mean()[\"% Geral Aprovados\"]"
   ]
  },
  {
   "cell_type": "code",
   "execution_count": 90,
   "metadata": {},
   "outputs": [],
   "source": [
    "# Criando novo dataframe\n",
    "df_performance_tamanho = pd.DataFrame({\"Média Redação\" : df_14_1.round(2),\n",
    "                                       \"Média Matemática\": df_14_2.round(2),\n",
    "                                       \"% Aprovados Redação\": df_14_3.round(2),\n",
    "                                       \"% Aprovados Matemática\": df_14_4.round(2),\n",
    "                                       \"% Geral Aprovados\": df_14_5.round(2)})"
   ]
  },
  {
   "cell_type": "code",
   "execution_count": 91,
   "metadata": {},
   "outputs": [
    {
     "data": {
      "text/plain": [
       "array([[<AxesSubplot:title={'center':'Média Redação'}>,\n",
       "        <AxesSubplot:title={'center':'Média Matemática'}>],\n",
       "       [<AxesSubplot:title={'center':'% Aprovados Redação'}>,\n",
       "        <AxesSubplot:title={'center':'% Aprovados Matemática'}>],\n",
       "       [<AxesSubplot:title={'center':'% Geral Aprovados'}>,\n",
       "        <AxesSubplot:>]], dtype=object)"
      ]
     },
     "execution_count": 91,
     "metadata": {},
     "output_type": "execute_result"
    },
    {
     "data": {
      "image/png": "[encoded data removed]",
      "text/plain": [
       "<Figure size 432x288 with 6 Axes>"
      ]
     },
     "metadata": {
      "needs_background": "light"
     },
     "output_type": "display_data"
    }
   ],
   "source": [
    "df_performance_tamanho.hist()"
   ]
  },
  {
   "cell_type": "markdown",
   "metadata": {},
   "source": [
    "> Insigth\n",
    "\n",
    "    As escolas de pequeno porte tiveram as melhores médias\n",
    "    \n",
    "    As escolas de grande porte tiveram as piores médias"
   ]
  },
  {
   "cell_type": "markdown",
   "metadata": {},
   "source": [
    "**15- Qual o impacto do tipo de escola na performance dos alunos?**"
   ]
  },
  {
   "cell_type": "code",
   "execution_count": 92,
   "metadata": {},
   "outputs": [
    {
     "data": {
      "text/plain": [
       "Index(['Tipo Escola', 'Total Estudantes', 'Total Orçamento',\n",
       "       'Orçamento Por Estudante', 'Nota Média Aprovação Redação',\n",
       "       'Nota Média Aprovação Matemática', '% Aprovados Redação',\n",
       "       '% Aprovados Matemática', '% Geral Aprovados',\n",
       "       'Faixa de Gastos Por Estudante', 'Tamanho Escola'],\n",
       "      dtype='object')"
      ]
     },
     "execution_count": 92,
     "metadata": {},
     "output_type": "execute_result"
    }
   ],
   "source": [
    "df_resumo_performance_escolar.columns"
   ]
  },
  {
   "cell_type": "code",
   "execution_count": 93,
   "metadata": {},
   "outputs": [],
   "source": [
    "# Calculando a média das métricas e agrupando pela coluna Tipo Escola\n",
    "df_15_1 = df_resumo_performance_escolar.groupby([\"Tipo Escola\"]).mean()[\"Nota Média Aprovação Redação\"]\n",
    "df_15_2 = df_resumo_performance_escolar.groupby([\"Tipo Escola\"]).mean()[\"Nota Média Aprovação Matemática\"]\n",
    "df_15_3 = df_resumo_performance_escolar.groupby([\"Tipo Escola\"]).mean()[\"% Aprovados Redação\"]\n",
    "df_15_4 = df_resumo_performance_escolar.groupby([\"Tipo Escola\"]).mean()[\"% Aprovados Matemática\"]\n",
    "df_15_5 = df_resumo_performance_escolar.groupby([\"Tipo Escola\"]).mean()[\"% Geral Aprovados\"]"
   ]
  },
  {
   "cell_type": "code",
   "execution_count": 94,
   "metadata": {},
   "outputs": [],
   "source": [
    "# Criando novo dataframe\n",
    "df_performance_tipo_escola = pd.DataFrame({\"Média Redação\": df_15_1.round(2),\n",
    "                                           \"Média Matemática\": df_15_2.round(2),\n",
    "                                           \"% Aprovados Redação\": df_15_3.round(2),\n",
    "                                           \"% Aprovados Matemática\": df_15_4.round(2),\n",
    "                                           \"% Geral Aprovados\": df_15_5.round(2)})"
   ]
  },
  {
   "cell_type": "code",
   "execution_count": 95,
   "metadata": {},
   "outputs": [
    {
     "data": {
      "text/html": [
       "<div>\n",
       "<style scoped>\n",
       "    .dataframe tbody tr th:only-of-type {\n",
       "        vertical-align: middle;\n",
       "    }\n",
       "\n",
       "    .dataframe tbody tr th {\n",
       "        vertical-align: top;\n",
       "    }\n",
       "\n",
       "    .dataframe thead th {\n",
       "        text-align: right;\n",
       "    }\n",
       "</style>\n",
       "<table border=\"1\" class=\"dataframe\">\n",
       "  <thead>\n",
       "    <tr style=\"text-align: right;\">\n",
       "      <th></th>\n",
       "      <th>Média Redação</th>\n",
       "      <th>Média Matemática</th>\n",
       "      <th>% Aprovados Redação</th>\n",
       "      <th>% Aprovados Matemática</th>\n",
       "      <th>% Geral Aprovados</th>\n",
       "    </tr>\n",
       "    <tr>\n",
       "      <th>Tipo Escola</th>\n",
       "      <th></th>\n",
       "      <th></th>\n",
       "      <th></th>\n",
       "      <th></th>\n",
       "      <th></th>\n",
       "    </tr>\n",
       "  </thead>\n",
       "  <tbody>\n",
       "    <tr>\n",
       "      <th>Particular</th>\n",
       "      <td>83.89</td>\n",
       "      <td>83.48</td>\n",
       "      <td>96.58</td>\n",
       "      <td>93.62</td>\n",
       "      <td>90.43</td>\n",
       "    </tr>\n",
       "    <tr>\n",
       "      <th>Publica</th>\n",
       "      <td>80.97</td>\n",
       "      <td>76.96</td>\n",
       "      <td>80.80</td>\n",
       "      <td>66.55</td>\n",
       "      <td>53.67</td>\n",
       "    </tr>\n",
       "  </tbody>\n",
       "</table>\n",
       "</div>"
      ],
      "text/plain": [
       "             Média Redação  Média Matemática  % Aprovados Redação  \\\n",
       "Tipo Escola                                                         \n",
       "Particular           83.89             83.48                96.58   \n",
       "Publica              80.97             76.96                80.80   \n",
       "\n",
       "             % Aprovados Matemática  % Geral Aprovados  \n",
       "Tipo Escola                                             \n",
       "Particular                    93.62              90.43  \n",
       "Publica                       66.55              53.67  "
      ]
     },
     "execution_count": 95,
     "metadata": {},
     "output_type": "execute_result"
    }
   ],
   "source": [
    "df_performance_tipo_escola"
   ]
  },
  {
   "cell_type": "code",
   "execution_count": 96,
   "metadata": {},
   "outputs": [
    {
     "data": {
      "text/plain": [
       "array([[<AxesSubplot:title={'center':'Média Redação'}>,\n",
       "        <AxesSubplot:title={'center':'Média Matemática'}>],\n",
       "       [<AxesSubplot:title={'center':'% Aprovados Redação'}>,\n",
       "        <AxesSubplot:title={'center':'% Aprovados Matemática'}>],\n",
       "       [<AxesSubplot:title={'center':'% Geral Aprovados'}>,\n",
       "        <AxesSubplot:>]], dtype=object)"
      ]
     },
     "execution_count": 96,
     "metadata": {},
     "output_type": "execute_result"
    },
    {
     "data": {
      "image/png": "[encoded data removed]",
      "text/plain": [
       "<Figure size 432x288 with 6 Axes>"
      ]
     },
     "metadata": {
      "needs_background": "light"
     },
     "output_type": "display_data"
    }
   ],
   "source": [
    "df_performance_tipo_escola.hist()"
   ]
  },
  {
   "cell_type": "code",
   "execution_count": 97,
   "metadata": {},
   "outputs": [],
   "source": [
    "df_resumo_performance_escolar.to_excel('dados/df_resumo_performance_escolar.xlsx')"
   ]
  }
 ],
 "metadata": {
  "anaconda-cloud": {},
  "kernel_info": {
   "name": "python3"
  },
  "kernelspec": {
   "display_name": "Python 3 (ipykernel)",
   "language": "python",
   "name": "python3"
  },
  "language_info": {
   "codemirror_mode": {
    "name": "ipython",
    "version": 3
   },
   "file_extension": ".py",
   "mimetype": "text/x-python",
   "name": "python",
   "nbconvert_exporter": "python",
   "pygments_lexer": "ipython3",
   "version": "3.9.7"
  },
  "latex_envs": {
   "LaTeX_envs_menu_present": true,
   "autoclose": false,
   "autocomplete": true,
   "bibliofile": "biblio.bib",
   "cite_by": "apalike",
   "current_citInitial": 1,
   "eqLabelWithNumbers": true,
   "eqNumInitial": 1,
   "hotkeys": {
    "equation": "Ctrl-E",
    "itemize": "Ctrl-I"
   },
   "labels_anchors": false,
   "latex_user_defs": false,
   "report_style_numbering": false,
   "user_envs_cfg": false
  },
  "nteract": {
   "version": "0.8.4"
  }
 },
 "nbformat": 4,
 "nbformat_minor": 1
}
