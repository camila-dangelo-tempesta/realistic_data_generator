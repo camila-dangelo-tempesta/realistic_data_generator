{
 "cells": [
  {
   "cell_type": "markdown",
   "metadata": {},
   "source": [
    "# 0.0 Imports"
   ]
  },
  {
   "cell_type": "code",
   "execution_count": 1,
   "metadata": {},
   "outputs": [],
   "source": [
    "# Imports\n",
    "import pandas as pd"
   ]
  },
  {
   "cell_type": "markdown",
   "metadata": {},
   "source": [
    "## 0.1 Help Function"
   ]
  },
  {
   "cell_type": "code",
   "execution_count": 2,
   "metadata": {},
   "outputs": [
    {
     "name": "stdout",
     "output_type": "stream",
     "text": [
      "Author: Camila D'Angelo\n",
      "\n",
      "pandas: 1.4.3\n",
      "\n"
     ]
    }
   ],
   "source": [
    "# Versões dos pacotes usados neste jupyter notebook\n",
    "%reload_ext watermark\n",
    "%watermark -a \"Camila D'Angelo\" --iversions"
   ]
  },
  {
   "cell_type": "code",
   "execution_count": 3,
   "metadata": {},
   "outputs": [
    {
     "name": "stdout",
     "output_type": "stream",
     "text": [
      "Versão da Linguagem Python Usada Neste Jupyter Notebook: 3.9.7\n"
     ]
    }
   ],
   "source": [
    "# Versão da Linguagem Python\n",
    "from platform import python_version\n",
    "print('Versão da Linguagem Python Usada Neste Jupyter Notebook:', python_version())"
   ]
  },
  {
   "cell_type": "markdown",
   "metadata": {},
   "source": [
    "## 1. Loading data"
   ]
  },
  {
   "cell_type": "code",
   "execution_count": 4,
   "metadata": {},
   "outputs": [],
   "source": [
    "# Carrega o dataset de escolas\n",
    "dados_escolas = pd.read_csv(\"dados/dataset_escolas.csv\")"
   ]
  },
  {
   "cell_type": "code",
   "execution_count": 5,
   "metadata": {},
   "outputs": [
    {
     "data": {
      "text/plain": [
       "(15, 5)"
      ]
     },
     "execution_count": 5,
     "metadata": {},
     "output_type": "execute_result"
    }
   ],
   "source": [
    "# Shape\n",
    "dados_escolas.shape"
   ]
  },
  {
   "cell_type": "code",
   "execution_count": 6,
   "metadata": {},
   "outputs": [
    {
     "data": {
      "text/html": [
       "<div>\n",
       "<style scoped>\n",
       "    .dataframe tbody tr th:only-of-type {\n",
       "        vertical-align: middle;\n",
       "    }\n",
       "\n",
       "    .dataframe tbody tr th {\n",
       "        vertical-align: top;\n",
       "    }\n",
       "\n",
       "    .dataframe thead th {\n",
       "        text-align: right;\n",
       "    }\n",
       "</style>\n",
       "<table border=\"1\" class=\"dataframe\">\n",
       "  <thead>\n",
       "    <tr style=\"text-align: right;\">\n",
       "      <th></th>\n",
       "      <th>ID_Escola</th>\n",
       "      <th>Nome_Escola</th>\n",
       "      <th>Tipo_Escola</th>\n",
       "      <th>Numero_Alunos</th>\n",
       "      <th>Orcamento_Anual</th>\n",
       "    </tr>\n",
       "  </thead>\n",
       "  <tbody>\n",
       "    <tr>\n",
       "      <th>0</th>\n",
       "      <td>0</td>\n",
       "      <td>Escola A</td>\n",
       "      <td>Publica</td>\n",
       "      <td>2917</td>\n",
       "      <td>1910635</td>\n",
       "    </tr>\n",
       "    <tr>\n",
       "      <th>1</th>\n",
       "      <td>1</td>\n",
       "      <td>Escola B</td>\n",
       "      <td>Publica</td>\n",
       "      <td>2949</td>\n",
       "      <td>1884411</td>\n",
       "    </tr>\n",
       "    <tr>\n",
       "      <th>2</th>\n",
       "      <td>2</td>\n",
       "      <td>Escola C</td>\n",
       "      <td>Particular</td>\n",
       "      <td>1761</td>\n",
       "      <td>1056600</td>\n",
       "    </tr>\n",
       "    <tr>\n",
       "      <th>3</th>\n",
       "      <td>3</td>\n",
       "      <td>Escola D</td>\n",
       "      <td>Publica</td>\n",
       "      <td>4635</td>\n",
       "      <td>3022020</td>\n",
       "    </tr>\n",
       "    <tr>\n",
       "      <th>4</th>\n",
       "      <td>4</td>\n",
       "      <td>Escola E</td>\n",
       "      <td>Particular</td>\n",
       "      <td>1468</td>\n",
       "      <td>917500</td>\n",
       "    </tr>\n",
       "  </tbody>\n",
       "</table>\n",
       "</div>"
      ],
      "text/plain": [
       "   ID_Escola Nome_Escola Tipo_Escola  Numero_Alunos  Orcamento_Anual\n",
       "0          0    Escola A     Publica           2917          1910635\n",
       "1          1    Escola B     Publica           2949          1884411\n",
       "2          2    Escola C  Particular           1761          1056600\n",
       "3          3    Escola D     Publica           4635          3022020\n",
       "4          4    Escola E  Particular           1468           917500"
      ]
     },
     "execution_count": 6,
     "metadata": {},
     "output_type": "execute_result"
    }
   ],
   "source": [
    "# Visualiza\n",
    "dados_escolas.head()"
   ]
  },
  {
   "cell_type": "code",
   "execution_count": 7,
   "metadata": {},
   "outputs": [],
   "source": [
    "# Dataset de estudantes\n",
    "dados_estudantes = pd.read_csv(\"dados/dataset_estudantes.csv\")"
   ]
  },
  {
   "cell_type": "code",
   "execution_count": 8,
   "metadata": {},
   "outputs": [
    {
     "data": {
      "text/plain": [
       "(39160, 7)"
      ]
     },
     "execution_count": 8,
     "metadata": {},
     "output_type": "execute_result"
    }
   ],
   "source": [
    "# Shape\n",
    "dados_estudantes.shape"
   ]
  },
  {
   "cell_type": "code",
   "execution_count": 9,
   "metadata": {},
   "outputs": [
    {
     "data": {
      "text/html": [
       "<div>\n",
       "<style scoped>\n",
       "    .dataframe tbody tr th:only-of-type {\n",
       "        vertical-align: middle;\n",
       "    }\n",
       "\n",
       "    .dataframe tbody tr th {\n",
       "        vertical-align: top;\n",
       "    }\n",
       "\n",
       "    .dataframe thead th {\n",
       "        text-align: right;\n",
       "    }\n",
       "</style>\n",
       "<table border=\"1\" class=\"dataframe\">\n",
       "  <thead>\n",
       "    <tr style=\"text-align: right;\">\n",
       "      <th></th>\n",
       "      <th>ID_Estudante</th>\n",
       "      <th>Nome_Estudante</th>\n",
       "      <th>Genero</th>\n",
       "      <th>Serie</th>\n",
       "      <th>Nome_Escola</th>\n",
       "      <th>Nota_Redacao</th>\n",
       "      <th>Nota_Matematica</th>\n",
       "    </tr>\n",
       "  </thead>\n",
       "  <tbody>\n",
       "    <tr>\n",
       "      <th>0</th>\n",
       "      <td>0</td>\n",
       "      <td>Kevin Bradley</td>\n",
       "      <td>M</td>\n",
       "      <td>6</td>\n",
       "      <td>Escola A</td>\n",
       "      <td>66</td>\n",
       "      <td>79</td>\n",
       "    </tr>\n",
       "    <tr>\n",
       "      <th>1</th>\n",
       "      <td>1</td>\n",
       "      <td>Paul Smith</td>\n",
       "      <td>M</td>\n",
       "      <td>9</td>\n",
       "      <td>Escola A</td>\n",
       "      <td>94</td>\n",
       "      <td>61</td>\n",
       "    </tr>\n",
       "    <tr>\n",
       "      <th>2</th>\n",
       "      <td>2</td>\n",
       "      <td>John Rodriguez</td>\n",
       "      <td>M</td>\n",
       "      <td>9</td>\n",
       "      <td>Escola A</td>\n",
       "      <td>90</td>\n",
       "      <td>60</td>\n",
       "    </tr>\n",
       "    <tr>\n",
       "      <th>3</th>\n",
       "      <td>3</td>\n",
       "      <td>Oliver Scott</td>\n",
       "      <td>M</td>\n",
       "      <td>9</td>\n",
       "      <td>Escola A</td>\n",
       "      <td>67</td>\n",
       "      <td>58</td>\n",
       "    </tr>\n",
       "    <tr>\n",
       "      <th>4</th>\n",
       "      <td>4</td>\n",
       "      <td>William Ray</td>\n",
       "      <td>F</td>\n",
       "      <td>6</td>\n",
       "      <td>Escola A</td>\n",
       "      <td>97</td>\n",
       "      <td>84</td>\n",
       "    </tr>\n",
       "  </tbody>\n",
       "</table>\n",
       "</div>"
      ],
      "text/plain": [
       "   ID_Estudante  Nome_Estudante Genero  Serie Nome_Escola  Nota_Redacao  \\\n",
       "0             0   Kevin Bradley      M      6    Escola A            66   \n",
       "1             1      Paul Smith      M      9    Escola A            94   \n",
       "2             2  John Rodriguez      M      9    Escola A            90   \n",
       "3             3    Oliver Scott      M      9    Escola A            67   \n",
       "4             4     William Ray      F      6    Escola A            97   \n",
       "\n",
       "   Nota_Matematica  \n",
       "0               79  \n",
       "1               61  \n",
       "2               60  \n",
       "3               58  \n",
       "4               84  "
      ]
     },
     "execution_count": 9,
     "metadata": {},
     "output_type": "execute_result"
    }
   ],
   "source": [
    "# Visualiza\n",
    "dados_estudantes.head()"
   ]
  },
  {
   "cell_type": "code",
   "execution_count": 10,
   "metadata": {},
   "outputs": [],
   "source": [
    "# Combina os datasets\n",
    "dados_full = pd.merge(dados_estudantes, dados_escolas, how = \"left\", on = [\"Nome_Escola\", \"Nome_Escola\"])"
   ]
  },
  {
   "cell_type": "code",
   "execution_count": 11,
   "metadata": {},
   "outputs": [
    {
     "data": {
      "text/plain": [
       "(39160, 11)"
      ]
     },
     "execution_count": 11,
     "metadata": {},
     "output_type": "execute_result"
    }
   ],
   "source": [
    "# Shape\n",
    "dados_full.shape"
   ]
  },
  {
   "cell_type": "code",
   "execution_count": 12,
   "metadata": {},
   "outputs": [
    {
     "data": {
      "text/html": [
       "<div>\n",
       "<style scoped>\n",
       "    .dataframe tbody tr th:only-of-type {\n",
       "        vertical-align: middle;\n",
       "    }\n",
       "\n",
       "    .dataframe tbody tr th {\n",
       "        vertical-align: top;\n",
       "    }\n",
       "\n",
       "    .dataframe thead th {\n",
       "        text-align: right;\n",
       "    }\n",
       "</style>\n",
       "<table border=\"1\" class=\"dataframe\">\n",
       "  <thead>\n",
       "    <tr style=\"text-align: right;\">\n",
       "      <th></th>\n",
       "      <th>ID_Estudante</th>\n",
       "      <th>Nome_Estudante</th>\n",
       "      <th>Genero</th>\n",
       "      <th>Serie</th>\n",
       "      <th>Nome_Escola</th>\n",
       "      <th>Nota_Redacao</th>\n",
       "      <th>Nota_Matematica</th>\n",
       "      <th>ID_Escola</th>\n",
       "      <th>Tipo_Escola</th>\n",
       "      <th>Numero_Alunos</th>\n",
       "      <th>Orcamento_Anual</th>\n",
       "    </tr>\n",
       "  </thead>\n",
       "  <tbody>\n",
       "    <tr>\n",
       "      <th>0</th>\n",
       "      <td>0</td>\n",
       "      <td>Kevin Bradley</td>\n",
       "      <td>M</td>\n",
       "      <td>6</td>\n",
       "      <td>Escola A</td>\n",
       "      <td>66</td>\n",
       "      <td>79</td>\n",
       "      <td>0</td>\n",
       "      <td>Publica</td>\n",
       "      <td>2917</td>\n",
       "      <td>1910635</td>\n",
       "    </tr>\n",
       "    <tr>\n",
       "      <th>1</th>\n",
       "      <td>1</td>\n",
       "      <td>Paul Smith</td>\n",
       "      <td>M</td>\n",
       "      <td>9</td>\n",
       "      <td>Escola A</td>\n",
       "      <td>94</td>\n",
       "      <td>61</td>\n",
       "      <td>0</td>\n",
       "      <td>Publica</td>\n",
       "      <td>2917</td>\n",
       "      <td>1910635</td>\n",
       "    </tr>\n",
       "    <tr>\n",
       "      <th>2</th>\n",
       "      <td>2</td>\n",
       "      <td>John Rodriguez</td>\n",
       "      <td>M</td>\n",
       "      <td>9</td>\n",
       "      <td>Escola A</td>\n",
       "      <td>90</td>\n",
       "      <td>60</td>\n",
       "      <td>0</td>\n",
       "      <td>Publica</td>\n",
       "      <td>2917</td>\n",
       "      <td>1910635</td>\n",
       "    </tr>\n",
       "    <tr>\n",
       "      <th>3</th>\n",
       "      <td>3</td>\n",
       "      <td>Oliver Scott</td>\n",
       "      <td>M</td>\n",
       "      <td>9</td>\n",
       "      <td>Escola A</td>\n",
       "      <td>67</td>\n",
       "      <td>58</td>\n",
       "      <td>0</td>\n",
       "      <td>Publica</td>\n",
       "      <td>2917</td>\n",
       "      <td>1910635</td>\n",
       "    </tr>\n",
       "    <tr>\n",
       "      <th>4</th>\n",
       "      <td>4</td>\n",
       "      <td>William Ray</td>\n",
       "      <td>F</td>\n",
       "      <td>6</td>\n",
       "      <td>Escola A</td>\n",
       "      <td>97</td>\n",
       "      <td>84</td>\n",
       "      <td>0</td>\n",
       "      <td>Publica</td>\n",
       "      <td>2917</td>\n",
       "      <td>1910635</td>\n",
       "    </tr>\n",
       "  </tbody>\n",
       "</table>\n",
       "</div>"
      ],
      "text/plain": [
       "   ID_Estudante  Nome_Estudante Genero  Serie Nome_Escola  Nota_Redacao  \\\n",
       "0             0   Kevin Bradley      M      6    Escola A            66   \n",
       "1             1      Paul Smith      M      9    Escola A            94   \n",
       "2             2  John Rodriguez      M      9    Escola A            90   \n",
       "3             3    Oliver Scott      M      9    Escola A            67   \n",
       "4             4     William Ray      F      6    Escola A            97   \n",
       "\n",
       "   Nota_Matematica  ID_Escola Tipo_Escola  Numero_Alunos  Orcamento_Anual  \n",
       "0               79          0     Publica           2917          1910635  \n",
       "1               61          0     Publica           2917          1910635  \n",
       "2               60          0     Publica           2917          1910635  \n",
       "3               58          0     Publica           2917          1910635  \n",
       "4               84          0     Publica           2917          1910635  "
      ]
     },
     "execution_count": 12,
     "metadata": {},
     "output_type": "execute_result"
    }
   ],
   "source": [
    "# Visualiza\n",
    "dados_full.head()"
   ]
  },
  {
   "cell_type": "code",
   "execution_count": 13,
   "metadata": {},
   "outputs": [
    {
     "data": {
      "text/plain": [
       "array([6, 9, 8, 7], dtype=int64)"
      ]
     },
     "execution_count": 13,
     "metadata": {},
     "output_type": "execute_result"
    }
   ],
   "source": [
    "# Séries escolares no dataset\n",
    "dados_full[\"Serie\"].unique()"
   ]
  },
  {
   "cell_type": "code",
   "execution_count": 14,
   "metadata": {},
   "outputs": [
    {
     "data": {
      "text/plain": [
       "array(['M', 'F'], dtype=object)"
      ]
     },
     "execution_count": 14,
     "metadata": {},
     "output_type": "execute_result"
    }
   ],
   "source": [
    "# Genero\n",
    "dados_full[\"Genero\"].unique()"
   ]
  },
  {
   "cell_type": "markdown",
   "metadata": {},
   "source": [
    "## 2. Business Question"
   ]
  },
  {
   "cell_type": "markdown",
   "metadata": {},
   "source": [
    "> **1- Temos dados de quantas escolas?**"
   ]
  },
  {
   "cell_type": "code",
   "execution_count": null,
   "metadata": {},
   "outputs": [],
   "source": [
    "total_escolas = len(dados_full[\"Nome_Escola\"].unique())\n",
    "total_escolas"
   ]
  },
  {
   "cell_type": "markdown",
   "metadata": {},
   "source": [
    "> **2- Qual o total de registros de estudantes na base de dados?**"
   ]
  },
  {
   "cell_type": "code",
   "execution_count": null,
   "metadata": {},
   "outputs": [],
   "source": [
    "total_estudantes = dados_full[\"ID_Estudante\"].count()\n",
    "total_estudantes"
   ]
  },
  {
   "cell_type": "markdown",
   "metadata": {},
   "source": [
    "> **3- Qual o orçamento total considerando todas as escolas?**"
   ]
  },
  {
   "cell_type": "code",
   "execution_count": null,
   "metadata": {},
   "outputs": [],
   "source": [
    "total_orc = dados_escolas[\"Orcamento_Anual\"].sum()\n",
    "total_orc"
   ]
  },
  {
   "cell_type": "markdown",
   "metadata": {},
   "source": [
    "> **4- Qual a média da nota dos alunos em Redação?**"
   ]
  },
  {
   "cell_type": "code",
   "execution_count": null,
   "metadata": {},
   "outputs": [],
   "source": [
    "media_redacao = dados_full[\"Nota_Redacao\"].mean()\n",
    "media_redacao"
   ]
  },
  {
   "cell_type": "markdown",
   "metadata": {},
   "source": [
    "> **5- Qual a média da nota dos alunos em Matemática?**"
   ]
  },
  {
   "cell_type": "code",
   "execution_count": null,
   "metadata": {},
   "outputs": [],
   "source": [
    "media_matematica = dados_full[\"Nota_Matematica\"].mean()\n",
    "media_matematica"
   ]
  },
  {
   "cell_type": "markdown",
   "metadata": {},
   "source": [
    "> **6- Considerando que a nota de aprovação é 70, quantos alunos foram aprovados em Redação? (Entregue o resultado em valor absoluto e percentual)**"
   ]
  },
  {
   "cell_type": "code",
   "execution_count": null,
   "metadata": {},
   "outputs": [],
   "source": [
    "contagem_aprovados_red = dados_full[(dados_full[\"Nota_Redacao\"] >= 70)].count()[\"Nome_Estudante\"]\n",
    "contagem_aprovados_red"
   ]
  },
  {
   "cell_type": "code",
   "execution_count": null,
   "metadata": {},
   "outputs": [],
   "source": [
    "percentual_aprovados_red = contagem_aprovados_red / float(total_estudantes) * 100\n",
    "percentual_aprovados_red"
   ]
  },
  {
   "cell_type": "markdown",
   "metadata": {},
   "source": [
    "> **7- Considerando que a nota de aprovação é 70, quantos alunos foram aprovados em Matemática? (Entregue o resultado em valor absoluto e percentual)**"
   ]
  },
  {
   "cell_type": "code",
   "execution_count": null,
   "metadata": {},
   "outputs": [],
   "source": [
    "contagem_aprovados_mat = dados_full[(dados_full[\"Nota_Matematica\"] >= 70)].count()[\"Nome_Estudante\"]\n",
    "contagem_aprovados_mat"
   ]
  },
  {
   "cell_type": "code",
   "execution_count": null,
   "metadata": {},
   "outputs": [],
   "source": [
    "percentual_aprovados_mat = contagem_aprovados_mat / float(total_estudantes) * 100\n",
    "percentual_aprovados_mat"
   ]
  },
  {
   "cell_type": "markdown",
   "metadata": {},
   "source": [
    "> **8- Considerando que a nota de aprovação é 70, quantos alunos foram aprovados em Matemática e Redação? (Entregue o resultado em valor absoluto e percentual)**"
   ]
  },
  {
   "cell_type": "code",
   "execution_count": null,
   "metadata": {},
   "outputs": [],
   "source": [
    "contagem_total_aprovados = dados_full[(dados_full[\"Nota_Matematica\"] >= 70) \n",
    "                                                  & (dados_full[\"Nota_Redacao\"] >= 70)].count()[\"Nome_Estudante\"]\n",
    "contagem_total_aprovados"
   ]
  },
  {
   "cell_type": "code",
   "execution_count": null,
   "metadata": {},
   "outputs": [],
   "source": [
    "percentual_aprovados_total = contagem_total_aprovados /  float(total_estudantes) * 100\n",
    "percentual_aprovados_total"
   ]
  },
  {
   "cell_type": "markdown",
   "metadata": {},
   "source": [
    "> **9- Crie um dataframe com os resultados das questões de 1 a 8 que você calculou acima. (Dica: crie um dicionário e depois converta em dataframe do Pandas)**"
   ]
  },
  {
   "cell_type": "code",
   "execution_count": null,
   "metadata": {},
   "outputs": [],
   "source": [
    "df_performance_escolar = pd.DataFrame({\"Total de Escolas\": [total_escolas], \n",
    "                                       \"Total de Estudantes\": [total_estudantes], \n",
    "                                       \"Total Orçamento\": [total_orc],\n",
    "                                       \"Nota Média em Redação\": [media_redacao], \n",
    "                                       \"Nota Média em Matemática\": [media_matematica],\n",
    "                                       \"% Aprovação Redação\": [percentual_aprovados_red],\n",
    "                                       \"% Aprovação Matemática\": [percentual_aprovados_mat],\n",
    "                                       \"% Aprovação Total\": [percentual_aprovados_total]})"
   ]
  },
  {
   "cell_type": "code",
   "execution_count": null,
   "metadata": {},
   "outputs": [],
   "source": [
    "df_performance_escolar"
   ]
  },
  {
   "cell_type": "code",
   "execution_count": null,
   "metadata": {},
   "outputs": [],
   "source": [
    "type(df_performance_escolar)"
   ]
  },
  {
   "cell_type": "markdown",
   "metadata": {},
   "source": [
    "> **10- Formate as colunas \"Total de Estudantes\" e \"Total Orçamento\" ajustando as casas decimais.**"
   ]
  },
  {
   "cell_type": "code",
   "execution_count": null,
   "metadata": {},
   "outputs": [],
   "source": [
    "df_performance_escolar[\"Total de Estudantes\"] = df_performance_escolar[\"Total de Estudantes\"].map(\"{:,}\".format)\n",
    "df_performance_escolar[\"Total Orçamento\"] = df_performance_escolar[\"Total Orçamento\"].map(\"${:,.2f}\".format)"
   ]
  },
  {
   "cell_type": "code",
   "execution_count": null,
   "metadata": {},
   "outputs": [],
   "source": [
    "df_performance_escolar"
   ]
  }
 ],
 "metadata": {
  "anaconda-cloud": {},
  "kernel_info": {
   "name": "python3"
  },
  "kernelspec": {
   "display_name": "Python 3 (ipykernel)",
   "language": "python",
   "name": "python3"
  },
  "language_info": {
   "codemirror_mode": {
    "name": "ipython",
    "version": 3
   },
   "file_extension": ".py",
   "mimetype": "text/x-python",
   "name": "python",
   "nbconvert_exporter": "python",
   "pygments_lexer": "ipython3",
   "version": "3.9.7"
  },
  "latex_envs": {
   "LaTeX_envs_menu_present": true,
   "autoclose": false,
   "autocomplete": true,
   "bibliofile": "biblio.bib",
   "cite_by": "apalike",
   "current_citInitial": 1,
   "eqLabelWithNumbers": true,
   "eqNumInitial": 1,
   "hotkeys": {
    "equation": "Ctrl-E",
    "itemize": "Ctrl-I"
   },
   "labels_anchors": false,
   "latex_user_defs": false,
   "report_style_numbering": false,
   "user_envs_cfg": false
  },
  "nteract": {
   "version": "0.8.4"
  }
 },
 "nbformat": 4,
 "nbformat_minor": 1
}
